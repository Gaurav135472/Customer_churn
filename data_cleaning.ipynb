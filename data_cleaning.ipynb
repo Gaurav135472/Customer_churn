{
 "cells": [
  {
   "cell_type": "code",
   "execution_count": 130,
   "metadata": {},
   "outputs": [],
   "source": [
    "import pandas as pd\n",
    "import numpy as np"
   ]
  },
  {
   "cell_type": "code",
   "execution_count": 131,
   "metadata": {},
   "outputs": [
    {
     "data": {
      "text/html": [
       "<div>\n",
       "<style scoped>\n",
       "    .dataframe tbody tr th:only-of-type {\n",
       "        vertical-align: middle;\n",
       "    }\n",
       "\n",
       "    .dataframe tbody tr th {\n",
       "        vertical-align: top;\n",
       "    }\n",
       "\n",
       "    .dataframe thead th {\n",
       "        text-align: right;\n",
       "    }\n",
       "</style>\n",
       "<table border=\"1\" class=\"dataframe\">\n",
       "  <thead>\n",
       "    <tr style=\"text-align: right;\">\n",
       "      <th></th>\n",
       "      <th>consumer_name</th>\n",
       "      <th>consumer_review</th>\n",
       "      <th>consumer_country</th>\n",
       "      <th>date</th>\n",
       "      <th>rating</th>\n",
       "      <th>review_topic</th>\n",
       "      <th>review_content</th>\n",
       "      <th>site</th>\n",
       "    </tr>\n",
       "  </thead>\n",
       "  <tbody>\n",
       "    <tr>\n",
       "      <th>0</th>\n",
       "      <td>Vladimiro Mascaro</td>\n",
       "      <td>3 reviews</td>\n",
       "      <td>GB</td>\n",
       "      <td>Friday, October 11, 2024 at 06:25:37 p.m.</td>\n",
       "      <td>Rated 1 out of 5 stars</td>\n",
       "      <td>4 MONTHS OF TOTAL INCOPETENCE</td>\n",
       "      <td>Since July until this month of all my orders (...</td>\n",
       "      <td>amazon</td>\n",
       "    </tr>\n",
       "    <tr>\n",
       "      <th>1</th>\n",
       "      <td>Lucy Loo</td>\n",
       "      <td>9 reviews</td>\n",
       "      <td>GB</td>\n",
       "      <td>Friday, October 11, 2024 at 09:57:32 a.m.</td>\n",
       "      <td>Rated 1 out of 5 stars</td>\n",
       "      <td>Driver stealing</td>\n",
       "      <td>As a family we order from Amazon almost daily....</td>\n",
       "      <td>amazon</td>\n",
       "    </tr>\n",
       "    <tr>\n",
       "      <th>2</th>\n",
       "      <td>Da</td>\n",
       "      <td>21 reviews</td>\n",
       "      <td>GB</td>\n",
       "      <td>Thursday, October 10, 2024 at 11:36:09 a.m.</td>\n",
       "      <td>Rated 5 out of 5 stars</td>\n",
       "      <td>Where is the negativity coming from?</td>\n",
       "      <td>Probably the only store that 1) delivers on-ti...</td>\n",
       "      <td>amazon</td>\n",
       "    </tr>\n",
       "    <tr>\n",
       "      <th>3</th>\n",
       "      <td>Vicki Study</td>\n",
       "      <td>1 review</td>\n",
       "      <td>GB</td>\n",
       "      <td>Friday, October 11, 2024 at 03:36:33 p.m.</td>\n",
       "      <td>Rated 1 out of 5 stars</td>\n",
       "      <td>Absolutely appalling customer service</td>\n",
       "      <td>The customer service has been absolutely appal...</td>\n",
       "      <td>amazon</td>\n",
       "    </tr>\n",
       "    <tr>\n",
       "      <th>4</th>\n",
       "      <td>Jeffrey Bruce</td>\n",
       "      <td>5 reviews</td>\n",
       "      <td>GB</td>\n",
       "      <td>Thursday, October 10, 2024 at 05:09:02 p.m.</td>\n",
       "      <td>Rated 1 out of 5 stars</td>\n",
       "      <td>Amazon are quick enough to take payment…</td>\n",
       "      <td>Amazon are quick enough to take payment for or...</td>\n",
       "      <td>amazon</td>\n",
       "    </tr>\n",
       "  </tbody>\n",
       "</table>\n",
       "</div>"
      ],
      "text/plain": [
       "       consumer_name consumer_review consumer_country  \\\n",
       "0  Vladimiro Mascaro       3 reviews               GB   \n",
       "1           Lucy Loo       9 reviews               GB   \n",
       "2                 Da      21 reviews               GB   \n",
       "3        Vicki Study        1 review               GB   \n",
       "4      Jeffrey Bruce       5 reviews               GB   \n",
       "\n",
       "                                          date                  rating  \\\n",
       "0    Friday, October 11, 2024 at 06:25:37 p.m.  Rated 1 out of 5 stars   \n",
       "1    Friday, October 11, 2024 at 09:57:32 a.m.  Rated 1 out of 5 stars   \n",
       "2  Thursday, October 10, 2024 at 11:36:09 a.m.  Rated 5 out of 5 stars   \n",
       "3    Friday, October 11, 2024 at 03:36:33 p.m.  Rated 1 out of 5 stars   \n",
       "4  Thursday, October 10, 2024 at 05:09:02 p.m.  Rated 1 out of 5 stars   \n",
       "\n",
       "                               review_topic  \\\n",
       "0             4 MONTHS OF TOTAL INCOPETENCE   \n",
       "1                          Driver stealing    \n",
       "2      Where is the negativity coming from?   \n",
       "3    Absolutely appalling customer service    \n",
       "4  Amazon are quick enough to take payment…   \n",
       "\n",
       "                                      review_content    site  \n",
       "0  Since July until this month of all my orders (...  amazon  \n",
       "1  As a family we order from Amazon almost daily....  amazon  \n",
       "2  Probably the only store that 1) delivers on-ti...  amazon  \n",
       "3  The customer service has been absolutely appal...  amazon  \n",
       "4  Amazon are quick enough to take payment for or...  amazon  "
      ]
     },
     "execution_count": 131,
     "metadata": {},
     "output_type": "execute_result"
    }
   ],
   "source": [
    "df = pd.read_csv('all_site_reviews_trustpilot.csv')\n",
    "df.head()"
   ]
  },
  {
   "cell_type": "markdown",
   "metadata": {},
   "source": [
    "# Data Accessing"
   ]
  },
  {
   "cell_type": "markdown",
   "metadata": {},
   "source": [
    "### Summary of data\n",
    "\n",
    "The dataset consists of customer reviews collected from five different websites, including Amazon, eBay, Alibaba, Walmart, and Bestbuy. Each review includes details such as the reviewer's name, the number of reviews they have written, their country, and the date of the review. Additionally, the dataset contains the rating provided by the reviewer, the topic or title of the review, and the full review content. Most reviews focus on customer service experiences, product quality, or issues with delivery, and the dataset captures both positive and negative sentiments across various consumer experiences. Each review is also associated with the specific website where it was posted.\n",
    "\n",
    "* **Columns:**\n",
    "\n",
    "    1. consumer_name: Contains the name of the reviewer, with \"Not Available\" appearing in 75 cases.\n",
    "    2. consumer_review: Indicates the number of reviews written by each consumer, with the most common being \"1 review\" (588 occurrences).\n",
    "    3. consumer_country: Represents the reviewer's country, with the most frequent country being the US (863 reviews).\n",
    "    4. date: The timestamp for when the review was posted, with 75 entries listed as \"Not Available\".\n",
    "    5. rating: Contains the rating, most commonly \"Rated 1 out of 5 stars\" (1031 reviews).\n",
    "    6. review_topic: The topic or title of the review, with 75 occurrences marked as \"Not Available\".\n",
    "    7. review_content: The full review text, with 75 occurrences marked as \"Not Available\".\n",
    "    8. site: The website for which the review was posted, with reviews split across five sites. \"Bestbuy\" is the most frequent (314 reviews)."
   ]
  },
  {
   "cell_type": "markdown",
   "metadata": {},
   "source": [
    "### Issues with the database\n",
    "\n",
    "1. Dirty Data \n",
    "\n",
    "    * **consumer_name**:  \n",
    "        1. One not null value  **Completeness**\n",
    "        2. Rename column to name  **Consistency**\n",
    "        3. Need to tream extra spaces and make it lower letter **Accuracy**\n",
    "    \n",
    "    * **consumer_review**: \n",
    "        1. Need to change name **Consistency**\n",
    "        2. Remove the word 'Review' **Accuracy**\n",
    "        3. Change column type to int or float. **Accuracy**\n",
    "\n",
    "    * **consumer_country**: \n",
    "        1. Need to change name **Consistency**\n",
    "        2. Need to find the country name based on short name **Accuracy**\n",
    "\n",
    "\n",
    "    * **date**: \n",
    "        1. Remove extra letters or text **Accuracy**\n",
    "        2. Change type to date-time **Accuracy**\n",
    "\n",
    "    * **rating**: \n",
    "        1. Need to remove the exrea text **Accuracy**\n",
    "        2. Make a column type int or float\n",
    "        **Accuracy**\n",
    "\n",
    "    * **review_topic**:\n",
    "        1. Need to change name **Consistency**\n",
    "        2. Make all the text into lower letter and then remove special charecter.**Consistency**\n",
    "\n",
    "    * **review_content**\n",
    "        1. Need to change name **Consistency**\n",
    "        2. Make all the text into lower letter and remove special character **Consistency**\n",
    "\n",
    "    * **site**:\n",
    "        1. Change name to company_name **Consistency**\n",
    "\n",
    "2. Messey Data\n",
    "\n",
    "    * **review_content**: \n",
    "        1. Join with review_topic and then make one column for sentiment analysis\n",
    "        2. Need to do sentiment analysis and make more column for that.\n",
    "\n"
   ]
  },
  {
   "cell_type": "markdown",
   "metadata": {},
   "source": [
    "### Automated Assessment"
   ]
  },
  {
   "cell_type": "code",
   "execution_count": 132,
   "metadata": {},
   "outputs": [
    {
     "data": {
      "text/html": [
       "<div>\n",
       "<style scoped>\n",
       "    .dataframe tbody tr th:only-of-type {\n",
       "        vertical-align: middle;\n",
       "    }\n",
       "\n",
       "    .dataframe tbody tr th {\n",
       "        vertical-align: top;\n",
       "    }\n",
       "\n",
       "    .dataframe thead th {\n",
       "        text-align: right;\n",
       "    }\n",
       "</style>\n",
       "<table border=\"1\" class=\"dataframe\">\n",
       "  <thead>\n",
       "    <tr style=\"text-align: right;\">\n",
       "      <th></th>\n",
       "      <th>consumer_name</th>\n",
       "      <th>consumer_review</th>\n",
       "      <th>consumer_country</th>\n",
       "      <th>date</th>\n",
       "      <th>rating</th>\n",
       "      <th>review_topic</th>\n",
       "      <th>review_content</th>\n",
       "      <th>site</th>\n",
       "    </tr>\n",
       "  </thead>\n",
       "  <tbody>\n",
       "    <tr>\n",
       "      <th>0</th>\n",
       "      <td>Vladimiro Mascaro</td>\n",
       "      <td>3 reviews</td>\n",
       "      <td>GB</td>\n",
       "      <td>Friday, October 11, 2024 at 06:25:37 p.m.</td>\n",
       "      <td>Rated 1 out of 5 stars</td>\n",
       "      <td>4 MONTHS OF TOTAL INCOPETENCE</td>\n",
       "      <td>Since July until this month of all my orders (...</td>\n",
       "      <td>amazon</td>\n",
       "    </tr>\n",
       "    <tr>\n",
       "      <th>1</th>\n",
       "      <td>Lucy Loo</td>\n",
       "      <td>9 reviews</td>\n",
       "      <td>GB</td>\n",
       "      <td>Friday, October 11, 2024 at 09:57:32 a.m.</td>\n",
       "      <td>Rated 1 out of 5 stars</td>\n",
       "      <td>Driver stealing</td>\n",
       "      <td>As a family we order from Amazon almost daily....</td>\n",
       "      <td>amazon</td>\n",
       "    </tr>\n",
       "    <tr>\n",
       "      <th>2</th>\n",
       "      <td>Da</td>\n",
       "      <td>21 reviews</td>\n",
       "      <td>GB</td>\n",
       "      <td>Thursday, October 10, 2024 at 11:36:09 a.m.</td>\n",
       "      <td>Rated 5 out of 5 stars</td>\n",
       "      <td>Where is the negativity coming from?</td>\n",
       "      <td>Probably the only store that 1) delivers on-ti...</td>\n",
       "      <td>amazon</td>\n",
       "    </tr>\n",
       "    <tr>\n",
       "      <th>3</th>\n",
       "      <td>Vicki Study</td>\n",
       "      <td>1 review</td>\n",
       "      <td>GB</td>\n",
       "      <td>Friday, October 11, 2024 at 03:36:33 p.m.</td>\n",
       "      <td>Rated 1 out of 5 stars</td>\n",
       "      <td>Absolutely appalling customer service</td>\n",
       "      <td>The customer service has been absolutely appal...</td>\n",
       "      <td>amazon</td>\n",
       "    </tr>\n",
       "    <tr>\n",
       "      <th>4</th>\n",
       "      <td>Jeffrey Bruce</td>\n",
       "      <td>5 reviews</td>\n",
       "      <td>GB</td>\n",
       "      <td>Thursday, October 10, 2024 at 05:09:02 p.m.</td>\n",
       "      <td>Rated 1 out of 5 stars</td>\n",
       "      <td>Amazon are quick enough to take payment…</td>\n",
       "      <td>Amazon are quick enough to take payment for or...</td>\n",
       "      <td>amazon</td>\n",
       "    </tr>\n",
       "  </tbody>\n",
       "</table>\n",
       "</div>"
      ],
      "text/plain": [
       "       consumer_name consumer_review consumer_country  \\\n",
       "0  Vladimiro Mascaro       3 reviews               GB   \n",
       "1           Lucy Loo       9 reviews               GB   \n",
       "2                 Da      21 reviews               GB   \n",
       "3        Vicki Study        1 review               GB   \n",
       "4      Jeffrey Bruce       5 reviews               GB   \n",
       "\n",
       "                                          date                  rating  \\\n",
       "0    Friday, October 11, 2024 at 06:25:37 p.m.  Rated 1 out of 5 stars   \n",
       "1    Friday, October 11, 2024 at 09:57:32 a.m.  Rated 1 out of 5 stars   \n",
       "2  Thursday, October 10, 2024 at 11:36:09 a.m.  Rated 5 out of 5 stars   \n",
       "3    Friday, October 11, 2024 at 03:36:33 p.m.  Rated 1 out of 5 stars   \n",
       "4  Thursday, October 10, 2024 at 05:09:02 p.m.  Rated 1 out of 5 stars   \n",
       "\n",
       "                               review_topic  \\\n",
       "0             4 MONTHS OF TOTAL INCOPETENCE   \n",
       "1                          Driver stealing    \n",
       "2      Where is the negativity coming from?   \n",
       "3    Absolutely appalling customer service    \n",
       "4  Amazon are quick enough to take payment…   \n",
       "\n",
       "                                      review_content    site  \n",
       "0  Since July until this month of all my orders (...  amazon  \n",
       "1  As a family we order from Amazon almost daily....  amazon  \n",
       "2  Probably the only store that 1) delivers on-ti...  amazon  \n",
       "3  The customer service has been absolutely appal...  amazon  \n",
       "4  Amazon are quick enough to take payment for or...  amazon  "
      ]
     },
     "execution_count": 132,
     "metadata": {},
     "output_type": "execute_result"
    }
   ],
   "source": [
    "df.head()"
   ]
  },
  {
   "cell_type": "code",
   "execution_count": 133,
   "metadata": {},
   "outputs": [
    {
     "data": {
      "text/html": [
       "<div>\n",
       "<style scoped>\n",
       "    .dataframe tbody tr th:only-of-type {\n",
       "        vertical-align: middle;\n",
       "    }\n",
       "\n",
       "    .dataframe tbody tr th {\n",
       "        vertical-align: top;\n",
       "    }\n",
       "\n",
       "    .dataframe thead th {\n",
       "        text-align: right;\n",
       "    }\n",
       "</style>\n",
       "<table border=\"1\" class=\"dataframe\">\n",
       "  <thead>\n",
       "    <tr style=\"text-align: right;\">\n",
       "      <th></th>\n",
       "      <th>consumer_name</th>\n",
       "      <th>consumer_review</th>\n",
       "      <th>consumer_country</th>\n",
       "      <th>date</th>\n",
       "      <th>rating</th>\n",
       "      <th>review_topic</th>\n",
       "      <th>review_content</th>\n",
       "      <th>site</th>\n",
       "    </tr>\n",
       "  </thead>\n",
       "  <tbody>\n",
       "    <tr>\n",
       "      <th>count</th>\n",
       "      <td>1530</td>\n",
       "      <td>1531</td>\n",
       "      <td>1531</td>\n",
       "      <td>1531</td>\n",
       "      <td>1531</td>\n",
       "      <td>1531</td>\n",
       "      <td>1531</td>\n",
       "      <td>1531</td>\n",
       "    </tr>\n",
       "    <tr>\n",
       "      <th>unique</th>\n",
       "      <td>1405</td>\n",
       "      <td>64</td>\n",
       "      <td>89</td>\n",
       "      <td>1457</td>\n",
       "      <td>6</td>\n",
       "      <td>1440</td>\n",
       "      <td>1457</td>\n",
       "      <td>5</td>\n",
       "    </tr>\n",
       "    <tr>\n",
       "      <th>top</th>\n",
       "      <td>Not Available</td>\n",
       "      <td>1 review</td>\n",
       "      <td>US</td>\n",
       "      <td>Not Available</td>\n",
       "      <td>Rated 1 out of 5 stars</td>\n",
       "      <td>Not Available</td>\n",
       "      <td>Not Available</td>\n",
       "      <td>bestbuy</td>\n",
       "    </tr>\n",
       "    <tr>\n",
       "      <th>freq</th>\n",
       "      <td>75</td>\n",
       "      <td>588</td>\n",
       "      <td>863</td>\n",
       "      <td>75</td>\n",
       "      <td>1031</td>\n",
       "      <td>75</td>\n",
       "      <td>75</td>\n",
       "      <td>314</td>\n",
       "    </tr>\n",
       "  </tbody>\n",
       "</table>\n",
       "</div>"
      ],
      "text/plain": [
       "        consumer_name consumer_review consumer_country           date  \\\n",
       "count            1530            1531             1531           1531   \n",
       "unique           1405              64               89           1457   \n",
       "top     Not Available        1 review               US  Not Available   \n",
       "freq               75             588              863             75   \n",
       "\n",
       "                        rating   review_topic review_content     site  \n",
       "count                     1531           1531           1531     1531  \n",
       "unique                       6           1440           1457        5  \n",
       "top     Rated 1 out of 5 stars  Not Available  Not Available  bestbuy  \n",
       "freq                      1031             75             75      314  "
      ]
     },
     "execution_count": 133,
     "metadata": {},
     "output_type": "execute_result"
    }
   ],
   "source": [
    "df.describe()"
   ]
  },
  {
   "cell_type": "code",
   "execution_count": 134,
   "metadata": {},
   "outputs": [
    {
     "name": "stdout",
     "output_type": "stream",
     "text": [
      "<class 'pandas.core.frame.DataFrame'>\n",
      "RangeIndex: 1531 entries, 0 to 1530\n",
      "Data columns (total 8 columns):\n",
      " #   Column            Non-Null Count  Dtype \n",
      "---  ------            --------------  ----- \n",
      " 0   consumer_name     1530 non-null   object\n",
      " 1   consumer_review   1531 non-null   object\n",
      " 2   consumer_country  1531 non-null   object\n",
      " 3   date              1531 non-null   object\n",
      " 4   rating            1531 non-null   object\n",
      " 5   review_topic      1531 non-null   object\n",
      " 6   review_content    1531 non-null   object\n",
      " 7   site              1531 non-null   object\n",
      "dtypes: object(8)\n",
      "memory usage: 95.8+ KB\n"
     ]
    }
   ],
   "source": [
    "df.info()"
   ]
  },
  {
   "cell_type": "code",
   "execution_count": 135,
   "metadata": {},
   "outputs": [
    {
     "data": {
      "text/html": [
       "<div>\n",
       "<style scoped>\n",
       "    .dataframe tbody tr th:only-of-type {\n",
       "        vertical-align: middle;\n",
       "    }\n",
       "\n",
       "    .dataframe tbody tr th {\n",
       "        vertical-align: top;\n",
       "    }\n",
       "\n",
       "    .dataframe thead th {\n",
       "        text-align: right;\n",
       "    }\n",
       "</style>\n",
       "<table border=\"1\" class=\"dataframe\">\n",
       "  <thead>\n",
       "    <tr style=\"text-align: right;\">\n",
       "      <th></th>\n",
       "      <th>consumer_name</th>\n",
       "      <th>consumer_review</th>\n",
       "      <th>consumer_country</th>\n",
       "      <th>date</th>\n",
       "      <th>rating</th>\n",
       "      <th>review_topic</th>\n",
       "      <th>review_content</th>\n",
       "      <th>site</th>\n",
       "    </tr>\n",
       "  </thead>\n",
       "  <tbody>\n",
       "    <tr>\n",
       "      <th>31</th>\n",
       "      <td>Not Available</td>\n",
       "      <td>Not Available</td>\n",
       "      <td>Not Available</td>\n",
       "      <td>Not Available</td>\n",
       "      <td>Not Available</td>\n",
       "      <td>Not Available</td>\n",
       "      <td>Not Available</td>\n",
       "      <td>amazon</td>\n",
       "    </tr>\n",
       "    <tr>\n",
       "      <th>52</th>\n",
       "      <td>Not Available</td>\n",
       "      <td>Not Available</td>\n",
       "      <td>Not Available</td>\n",
       "      <td>Not Available</td>\n",
       "      <td>Not Available</td>\n",
       "      <td>Not Available</td>\n",
       "      <td>Not Available</td>\n",
       "      <td>amazon</td>\n",
       "    </tr>\n",
       "    <tr>\n",
       "      <th>73</th>\n",
       "      <td>Not Available</td>\n",
       "      <td>Not Available</td>\n",
       "      <td>Not Available</td>\n",
       "      <td>Not Available</td>\n",
       "      <td>Not Available</td>\n",
       "      <td>Not Available</td>\n",
       "      <td>Not Available</td>\n",
       "      <td>amazon</td>\n",
       "    </tr>\n",
       "    <tr>\n",
       "      <th>94</th>\n",
       "      <td>Not Available</td>\n",
       "      <td>Not Available</td>\n",
       "      <td>Not Available</td>\n",
       "      <td>Not Available</td>\n",
       "      <td>Not Available</td>\n",
       "      <td>Not Available</td>\n",
       "      <td>Not Available</td>\n",
       "      <td>amazon</td>\n",
       "    </tr>\n",
       "    <tr>\n",
       "      <th>115</th>\n",
       "      <td>Not Available</td>\n",
       "      <td>Not Available</td>\n",
       "      <td>Not Available</td>\n",
       "      <td>Not Available</td>\n",
       "      <td>Not Available</td>\n",
       "      <td>Not Available</td>\n",
       "      <td>Not Available</td>\n",
       "      <td>amazon</td>\n",
       "    </tr>\n",
       "    <tr>\n",
       "      <th>...</th>\n",
       "      <td>...</td>\n",
       "      <td>...</td>\n",
       "      <td>...</td>\n",
       "      <td>...</td>\n",
       "      <td>...</td>\n",
       "      <td>...</td>\n",
       "      <td>...</td>\n",
       "      <td>...</td>\n",
       "    </tr>\n",
       "    <tr>\n",
       "      <th>1437</th>\n",
       "      <td>Not Available</td>\n",
       "      <td>Not Available</td>\n",
       "      <td>Not Available</td>\n",
       "      <td>Not Available</td>\n",
       "      <td>Not Available</td>\n",
       "      <td>Not Available</td>\n",
       "      <td>Not Available</td>\n",
       "      <td>bestbuy</td>\n",
       "    </tr>\n",
       "    <tr>\n",
       "      <th>1458</th>\n",
       "      <td>Not Available</td>\n",
       "      <td>Not Available</td>\n",
       "      <td>Not Available</td>\n",
       "      <td>Not Available</td>\n",
       "      <td>Not Available</td>\n",
       "      <td>Not Available</td>\n",
       "      <td>Not Available</td>\n",
       "      <td>bestbuy</td>\n",
       "    </tr>\n",
       "    <tr>\n",
       "      <th>1479</th>\n",
       "      <td>Not Available</td>\n",
       "      <td>Not Available</td>\n",
       "      <td>Not Available</td>\n",
       "      <td>Not Available</td>\n",
       "      <td>Not Available</td>\n",
       "      <td>Not Available</td>\n",
       "      <td>Not Available</td>\n",
       "      <td>bestbuy</td>\n",
       "    </tr>\n",
       "    <tr>\n",
       "      <th>1499</th>\n",
       "      <td>Not Available</td>\n",
       "      <td>Not Available</td>\n",
       "      <td>Not Available</td>\n",
       "      <td>Not Available</td>\n",
       "      <td>Not Available</td>\n",
       "      <td>Not Available</td>\n",
       "      <td>Not Available</td>\n",
       "      <td>bestbuy</td>\n",
       "    </tr>\n",
       "    <tr>\n",
       "      <th>1520</th>\n",
       "      <td>Not Available</td>\n",
       "      <td>Not Available</td>\n",
       "      <td>Not Available</td>\n",
       "      <td>Not Available</td>\n",
       "      <td>Not Available</td>\n",
       "      <td>Not Available</td>\n",
       "      <td>Not Available</td>\n",
       "      <td>bestbuy</td>\n",
       "    </tr>\n",
       "  </tbody>\n",
       "</table>\n",
       "<p>70 rows × 8 columns</p>\n",
       "</div>"
      ],
      "text/plain": [
       "      consumer_name consumer_review consumer_country           date  \\\n",
       "31    Not Available   Not Available    Not Available  Not Available   \n",
       "52    Not Available   Not Available    Not Available  Not Available   \n",
       "73    Not Available   Not Available    Not Available  Not Available   \n",
       "94    Not Available   Not Available    Not Available  Not Available   \n",
       "115   Not Available   Not Available    Not Available  Not Available   \n",
       "...             ...             ...              ...            ...   \n",
       "1437  Not Available   Not Available    Not Available  Not Available   \n",
       "1458  Not Available   Not Available    Not Available  Not Available   \n",
       "1479  Not Available   Not Available    Not Available  Not Available   \n",
       "1499  Not Available   Not Available    Not Available  Not Available   \n",
       "1520  Not Available   Not Available    Not Available  Not Available   \n",
       "\n",
       "             rating   review_topic review_content     site  \n",
       "31    Not Available  Not Available  Not Available   amazon  \n",
       "52    Not Available  Not Available  Not Available   amazon  \n",
       "73    Not Available  Not Available  Not Available   amazon  \n",
       "94    Not Available  Not Available  Not Available   amazon  \n",
       "115   Not Available  Not Available  Not Available   amazon  \n",
       "...             ...            ...            ...      ...  \n",
       "1437  Not Available  Not Available  Not Available  bestbuy  \n",
       "1458  Not Available  Not Available  Not Available  bestbuy  \n",
       "1479  Not Available  Not Available  Not Available  bestbuy  \n",
       "1499  Not Available  Not Available  Not Available  bestbuy  \n",
       "1520  Not Available  Not Available  Not Available  bestbuy  \n",
       "\n",
       "[70 rows x 8 columns]"
      ]
     },
     "execution_count": 135,
     "metadata": {},
     "output_type": "execute_result"
    }
   ],
   "source": [
    "temp_df = df[df.duplicated()]\n",
    "temp_df"
   ]
  },
  {
   "cell_type": "code",
   "execution_count": 136,
   "metadata": {},
   "outputs": [],
   "source": [
    "df.drop_duplicates(inplace=True)"
   ]
  },
  {
   "cell_type": "code",
   "execution_count": 137,
   "metadata": {},
   "outputs": [
    {
     "data": {
      "text/html": [
       "<div>\n",
       "<style scoped>\n",
       "    .dataframe tbody tr th:only-of-type {\n",
       "        vertical-align: middle;\n",
       "    }\n",
       "\n",
       "    .dataframe tbody tr th {\n",
       "        vertical-align: top;\n",
       "    }\n",
       "\n",
       "    .dataframe thead th {\n",
       "        text-align: right;\n",
       "    }\n",
       "</style>\n",
       "<table border=\"1\" class=\"dataframe\">\n",
       "  <thead>\n",
       "    <tr style=\"text-align: right;\">\n",
       "      <th></th>\n",
       "      <th>consumer_name</th>\n",
       "      <th>consumer_review</th>\n",
       "      <th>consumer_country</th>\n",
       "      <th>date</th>\n",
       "      <th>rating</th>\n",
       "      <th>review_topic</th>\n",
       "      <th>review_content</th>\n",
       "      <th>site</th>\n",
       "    </tr>\n",
       "  </thead>\n",
       "  <tbody>\n",
       "  </tbody>\n",
       "</table>\n",
       "</div>"
      ],
      "text/plain": [
       "Empty DataFrame\n",
       "Columns: [consumer_name, consumer_review, consumer_country, date, rating, review_topic, review_content, site]\n",
       "Index: []"
      ]
     },
     "execution_count": 137,
     "metadata": {},
     "output_type": "execute_result"
    }
   ],
   "source": [
    "df[df.duplicated()]"
   ]
  },
  {
   "cell_type": "code",
   "execution_count": 138,
   "metadata": {},
   "outputs": [
    {
     "data": {
      "text/plain": [
       "consumer_name       1\n",
       "consumer_review     0\n",
       "consumer_country    0\n",
       "date                0\n",
       "rating              0\n",
       "review_topic        0\n",
       "review_content      0\n",
       "site                0\n",
       "dtype: int64"
      ]
     },
     "execution_count": 138,
     "metadata": {},
     "output_type": "execute_result"
    }
   ],
   "source": [
    "df.isnull().sum()"
   ]
  },
  {
   "cell_type": "code",
   "execution_count": 139,
   "metadata": {},
   "outputs": [
    {
     "data": {
      "text/plain": [
       "consumer_name\n",
       "customer          12\n",
       "Not Available      5\n",
       "George             4\n",
       "Daniel             3\n",
       "Alex               3\n",
       "                  ..\n",
       "Linda              1\n",
       "Karen Bickford     1\n",
       "de cee             1\n",
       "Yaclyn Riley       1\n",
       "Ninja Ape          1\n",
       "Name: count, Length: 1405, dtype: int64"
      ]
     },
     "execution_count": 139,
     "metadata": {},
     "output_type": "execute_result"
    }
   ],
   "source": [
    "df['consumer_name'].value_counts()"
   ]
  },
  {
   "cell_type": "code",
   "execution_count": 140,
   "metadata": {},
   "outputs": [
    {
     "name": "stderr",
     "output_type": "stream",
     "text": [
      "C:\\Users\\User\\AppData\\Local\\Temp\\ipykernel_8624\\3545246845.py:3: FutureWarning: A value is trying to be set on a copy of a DataFrame or Series through chained assignment using an inplace method.\n",
      "The behavior will change in pandas 3.0. This inplace method will never work because the intermediate object on which we are setting values always behaves as a copy.\n",
      "\n",
      "For example, when doing 'df[col].method(value, inplace=True)', try using 'df.method({col: value}, inplace=True)' or df[col] = df[col].method(value) instead, to perform the operation inplace on the original object.\n",
      "\n",
      "\n",
      "  df['consumer_name'].fillna('User', inplace=True)\n"
     ]
    }
   ],
   "source": [
    "# not null values in conusmer name column \n",
    "df[df['consumer_name'].isnull()]\n",
    "df['consumer_name'].fillna('User', inplace=True)"
   ]
  },
  {
   "cell_type": "code",
   "execution_count": 141,
   "metadata": {},
   "outputs": [
    {
     "data": {
      "text/html": [
       "<div>\n",
       "<style scoped>\n",
       "    .dataframe tbody tr th:only-of-type {\n",
       "        vertical-align: middle;\n",
       "    }\n",
       "\n",
       "    .dataframe tbody tr th {\n",
       "        vertical-align: top;\n",
       "    }\n",
       "\n",
       "    .dataframe thead th {\n",
       "        text-align: right;\n",
       "    }\n",
       "</style>\n",
       "<table border=\"1\" class=\"dataframe\">\n",
       "  <thead>\n",
       "    <tr style=\"text-align: right;\">\n",
       "      <th></th>\n",
       "      <th>consumer_name</th>\n",
       "      <th>consumer_review</th>\n",
       "      <th>consumer_country</th>\n",
       "      <th>date</th>\n",
       "      <th>rating</th>\n",
       "      <th>review_topic</th>\n",
       "      <th>review_content</th>\n",
       "      <th>site</th>\n",
       "    </tr>\n",
       "  </thead>\n",
       "  <tbody>\n",
       "  </tbody>\n",
       "</table>\n",
       "</div>"
      ],
      "text/plain": [
       "Empty DataFrame\n",
       "Columns: [consumer_name, consumer_review, consumer_country, date, rating, review_topic, review_content, site]\n",
       "Index: []"
      ]
     },
     "execution_count": 141,
     "metadata": {},
     "output_type": "execute_result"
    }
   ],
   "source": [
    "df[df['consumer_name'].isnull()]"
   ]
  },
  {
   "cell_type": "code",
   "execution_count": 142,
   "metadata": {},
   "outputs": [],
   "source": [
    "# tream extra space and then rename the column name\n",
    "\n",
    "df['consumer_name'] = df['consumer_name'].str.strip()"
   ]
  },
  {
   "cell_type": "code",
   "execution_count": 143,
   "metadata": {},
   "outputs": [],
   "source": [
    "# removing extra text and changing type to int or float\n",
    "df['consumer_review'] = df['consumer_review'].str.strip().str.split(\" \").str.get(0)\n"
   ]
  },
  {
   "cell_type": "code",
   "execution_count": 144,
   "metadata": {},
   "outputs": [],
   "source": [
    "df['consumer_review'] = pd.to_numeric(df['consumer_review'], errors='coerce')\n"
   ]
  },
  {
   "cell_type": "code",
   "execution_count": 145,
   "metadata": {},
   "outputs": [],
   "source": [
    "index_df = df[df['consumer_review'].isnull()]"
   ]
  },
  {
   "cell_type": "code",
   "execution_count": 146,
   "metadata": {},
   "outputs": [],
   "source": [
    "df.drop(index=index_df.index, inplace=True)"
   ]
  },
  {
   "cell_type": "code",
   "execution_count": 147,
   "metadata": {},
   "outputs": [
    {
     "name": "stdout",
     "output_type": "stream",
     "text": [
      "consumer_country\n",
      "US               863\n",
      "GB               239\n",
      "CA               110\n",
      "AU                25\n",
      "DK                15\n",
      "                ... \n",
      "Not Available      1\n",
      "MA                 1\n",
      "QA                 1\n",
      "DO                 1\n",
      "JO                 1\n",
      "Name: count, Length: 89, dtype: int64\n"
     ]
    }
   ],
   "source": [
    "# chaning the country name\n",
    "text = df['consumer_country'].value_counts()\n",
    "print(text)\n",
    "\n",
    "text.to_csv('country_name')"
   ]
  },
  {
   "cell_type": "code",
   "execution_count": 148,
   "metadata": {},
   "outputs": [],
   "source": [
    "country_code_to_name = {\n",
    "    'US': 'United States',\n",
    "    'GB': 'United Kingdom',\n",
    "    'CA': 'Canada',\n",
    "    'AU': 'Australia',\n",
    "    'DK': 'Denmark',\n",
    "    'DE': 'Germany',\n",
    "    'FR': 'France',\n",
    "    'NL': 'Netherlands',\n",
    "    'ES': 'Spain',\n",
    "    'PK': 'Pakistan',\n",
    "    'ZA': 'South Africa',\n",
    "    'SE': 'Sweden',\n",
    "    'IN': 'India',\n",
    "    'IL': 'Israel',\n",
    "    'IE': 'Ireland',\n",
    "    'NZ': 'New Zealand',\n",
    "    'AT': 'Austria',\n",
    "    'MX': 'Mexico',\n",
    "    'PH': 'Philippines',\n",
    "    'IT': 'Italy',\n",
    "    'SK': 'Slovakia',\n",
    "    'CH': 'Switzerland',\n",
    "    'CR': 'Costa Rica',\n",
    "    'TR': 'Turkey',\n",
    "    'GR': 'Greece',\n",
    "    'PR': 'Puerto Rico',\n",
    "    'RO': 'Romania',\n",
    "    'LK': 'Sri Lanka',\n",
    "    'TH': 'Thailand',\n",
    "    'JP': 'Japan',\n",
    "    'LT': 'Lithuania',\n",
    "    'HU': 'Hungary',\n",
    "    'MY': 'Malaysia',\n",
    "    'GH': 'Ghana',\n",
    "    'SI': 'Slovenia',\n",
    "    'KW': 'Kuwait',\n",
    "    'VE': 'Venezuela, Bolivarian Republic of',\n",
    "    'HK': 'Hong Kong',\n",
    "    'PT': 'Portugal',\n",
    "    'GE': 'Georgia',\n",
    "    'NO': 'Norway',\n",
    "    'KH': 'Cambodia',\n",
    "    'BH': 'Bahrain',\n",
    "    'EC': 'Ecuador',\n",
    "    'BR': 'Brazil',\n",
    "    'ID': 'Indonesia',\n",
    "    'SA': 'Saudi Arabia',\n",
    "    'PA': 'Panama',\n",
    "    'AE': 'United Arab Emirates',\n",
    "    'KE': 'Kenya',\n",
    "    'AR': 'Argentina',\n",
    "    'EG': 'Egypt',\n",
    "    'MD': 'Moldova, Republic of',\n",
    "    'VN': 'Viet Nam',\n",
    "    'CL': 'Chile',\n",
    "    'HR': 'Croatia',\n",
    "    'FI': 'Finland',\n",
    "    'BG': 'Bulgaria',\n",
    "    'SG': 'Singapore',\n",
    "    'KR': 'Korea, Republic of',\n",
    "    'TZ': 'Tanzania, United Republic of',\n",
    "    'NG': 'Nigeria',\n",
    "    'BW': 'Botswana',\n",
    "    'IQ': 'Iraq',\n",
    "    'RU': 'Russian Federation',\n",
    "    'UG': 'Uganda',\n",
    "    'EE': 'Estonia',\n",
    "    'BN': 'Brunei Darussalam',\n",
    "    'CI': \"Côte d'Ivoire\",\n",
    "    'LY': 'Libya',\n",
    "    'HN': 'Honduras',\n",
    "    'CY': 'Cyprus',\n",
    "    'MG': 'Madagascar',\n",
    "    'AL': 'Albania',\n",
    "    'ZW': 'Zimbabwe',\n",
    "    'RS': 'Serbia',\n",
    "    'UY': 'Uruguay',\n",
    "    'GT': 'Guatemala',\n",
    "    'CO': 'Colombia',\n",
    "    'LB': 'Lebanon',\n",
    "    'UA': 'Ukraine',\n",
    "    'PL': 'Poland',\n",
    "    'PG': 'Papua New Guinea',\n",
    "    'KZ': 'Kazakhstan',\n",
    "    'MA': 'Morocco',\n",
    "    'QA': 'Qatar',\n",
    "    'DO': 'Dominican Republic',\n",
    "    'JO': 'Jordan',\n",
    "    'Not Available': None\n",
    "}\n",
    "\n",
    "df['customer_country_full'] = df['consumer_country'].map(country_code_to_name)\n",
    "df['consumer_country'] = df['consumer_country'].map(country_code_to_name)\n"
   ]
  },
  {
   "cell_type": "code",
   "execution_count": 149,
   "metadata": {},
   "outputs": [
    {
     "name": "stderr",
     "output_type": "stream",
     "text": [
      "C:\\Users\\User\\AppData\\Local\\Temp\\ipykernel_8624\\2862801863.py:12: UserWarning: Could not infer format, so each element will be parsed individually, falling back to `dateutil`. To ensure parsing is consistent and as-expected, please specify a format.\n",
      "  df['date_cleaned'] = pd.to_datetime(df['date_cleaned'], errors='coerce')\n"
     ]
    }
   ],
   "source": [
    "import pandas as pd\n",
    "\n",
    "\n",
    "df['date_cleaned'] = (\n",
    "    df['date']\n",
    "    .str.replace(r'\\w+, ', '', regex=True)    # Remove day of the week (e.g., \"Friday,\")\n",
    "    .str.replace(' at ', ' ')                 # Remove \"at\"\n",
    "    .str.replace('a.m.', 'AM')                # Replace 'a.m.' with 'AM'\n",
    "    .str.replace('p.m.', 'PM')                # Replace 'p.m.' with 'PM'\n",
    ")\n",
    "\n",
    "df['date_cleaned'] = pd.to_datetime(df['date_cleaned'], errors='coerce')\n",
    "\n"
   ]
  },
  {
   "cell_type": "code",
   "execution_count": 150,
   "metadata": {},
   "outputs": [
    {
     "name": "stdout",
     "output_type": "stream",
     "text": [
      "<class 'pandas.core.series.Series'>\n",
      "Index: 1456 entries, 0 to 1530\n",
      "Series name: date_cleaned\n",
      "Non-Null Count  Dtype         \n",
      "--------------  -----         \n",
      "1456 non-null   datetime64[ns]\n",
      "dtypes: datetime64[ns](1)\n",
      "memory usage: 22.8 KB\n"
     ]
    }
   ],
   "source": [
    "df['date_cleaned'].info()"
   ]
  },
  {
   "cell_type": "code",
   "execution_count": 151,
   "metadata": {},
   "outputs": [],
   "source": [
    "# Removing the extra text from the rating and then chaning the type to int\n",
    "\n",
    "df['rating'] = df['rating'].str.strip().str.split(\" \").str.get(1)"
   ]
  },
  {
   "cell_type": "code",
   "execution_count": 152,
   "metadata": {},
   "outputs": [],
   "source": [
    "df['rating'] = df['rating'].astype('int')"
   ]
  },
  {
   "cell_type": "code",
   "execution_count": 153,
   "metadata": {},
   "outputs": [
    {
     "name": "stdout",
     "output_type": "stream",
     "text": [
      "<class 'pandas.core.series.Series'>\n",
      "Index: 1456 entries, 0 to 1530\n",
      "Series name: rating\n",
      "Non-Null Count  Dtype\n",
      "--------------  -----\n",
      "1456 non-null   int64\n",
      "dtypes: int64(1)\n",
      "memory usage: 22.8 KB\n"
     ]
    }
   ],
   "source": [
    "df['rating'].info()"
   ]
  },
  {
   "cell_type": "code",
   "execution_count": 154,
   "metadata": {},
   "outputs": [],
   "source": [
    "# removing the special charater from review timedelta A duration expressing the difference between two\n",
    "\n",
    "df['review_topic_cleaned'] = df['review_topic'].str.replace(r'[^a-zA-Z0-9\\s]', '', regex=True)\n",
    "df['review_topic_cleaned'] = df['review_topic_cleaned'].str.lower()\n",
    "\n",
    "df['review_content_cleaned'] = df['review_content'].str.replace(r'[^a-zA-Z0-9\\s]', '', regex=True)\n",
    "df['review_content_cleaned'] = df['review_content_cleaned'].str.lower()"
   ]
  },
  {
   "cell_type": "code",
   "execution_count": 155,
   "metadata": {},
   "outputs": [
    {
     "name": "stdout",
     "output_type": "stream",
     "text": [
      "<class 'pandas.core.frame.DataFrame'>\n",
      "Index: 1456 entries, 0 to 1530\n",
      "Data columns (total 12 columns):\n",
      " #   Column                  Non-Null Count  Dtype         \n",
      "---  ------                  --------------  -----         \n",
      " 0   consumer_name           1456 non-null   object        \n",
      " 1   consumer_review         1456 non-null   float64       \n",
      " 2   consumer_country        1455 non-null   object        \n",
      " 3   date                    1456 non-null   object        \n",
      " 4   rating                  1456 non-null   int64         \n",
      " 5   review_topic            1456 non-null   object        \n",
      " 6   review_content          1456 non-null   object        \n",
      " 7   site                    1456 non-null   object        \n",
      " 8   customer_country_full   1455 non-null   object        \n",
      " 9   date_cleaned            1456 non-null   datetime64[ns]\n",
      " 10  review_topic_cleaned    1456 non-null   object        \n",
      " 11  review_content_cleaned  1456 non-null   object        \n",
      "dtypes: datetime64[ns](1), float64(1), int64(1), object(9)\n",
      "memory usage: 147.9+ KB\n"
     ]
    }
   ],
   "source": [
    "df.info()"
   ]
  },
  {
   "cell_type": "code",
   "execution_count": 160,
   "metadata": {},
   "outputs": [],
   "source": [
    "# Changing the name of all the column which are necessary\n",
    "rename_column = {\n",
    "    'consumer_name' : 'name',\n",
    "    'consumer_review' : 'review',\n",
    "    'consumer_country' : 'country_short',\n",
    "    'date' : 'date_old',\n",
    "    'rating' : 'rating',\n",
    "    'review_topic' : 'topic_uncleaned',\n",
    "    'review_content' : 'content_uncleaned',\n",
    "    'site' : 'company',\n",
    "    'customer_country_full':'country',\n",
    "    'date_cleaned':'date',\n",
    "    'review_topic_cleaned': 'topic',\n",
    "    'review_content_cleaned' : 'content',\n",
    "}\n",
    "\n",
    "df.rename(columns=rename_column, inplace=True)"
   ]
  },
  {
   "cell_type": "code",
   "execution_count": 157,
   "metadata": {},
   "outputs": [
    {
     "data": {
      "text/plain": [
       "Index(['consumer_name', 'consumer_review', 'consumer_country', 'date',\n",
       "       'rating', 'review_topic', 'review_content', 'site',\n",
       "       'customer_country_full', 'date_cleaned', 'review_topic_cleaned',\n",
       "       'review_content_cleaned'],\n",
       "      dtype='object')"
      ]
     },
     "execution_count": 157,
     "metadata": {},
     "output_type": "execute_result"
    }
   ],
   "source": [
    "df.columns"
   ]
  },
  {
   "cell_type": "code",
   "execution_count": 165,
   "metadata": {},
   "outputs": [],
   "source": [
    "df.drop(columns=['topic_uncleaned','country_short','content_uncleaned'], inplace=True)\n"
   ]
  },
  {
   "cell_type": "code",
   "execution_count": 166,
   "metadata": {},
   "outputs": [
    {
     "data": {
      "text/html": [
       "<div>\n",
       "<style scoped>\n",
       "    .dataframe tbody tr th:only-of-type {\n",
       "        vertical-align: middle;\n",
       "    }\n",
       "\n",
       "    .dataframe tbody tr th {\n",
       "        vertical-align: top;\n",
       "    }\n",
       "\n",
       "    .dataframe thead th {\n",
       "        text-align: right;\n",
       "    }\n",
       "</style>\n",
       "<table border=\"1\" class=\"dataframe\">\n",
       "  <thead>\n",
       "    <tr style=\"text-align: right;\">\n",
       "      <th></th>\n",
       "      <th>name</th>\n",
       "      <th>review</th>\n",
       "      <th>date_old</th>\n",
       "      <th>rating</th>\n",
       "      <th>company</th>\n",
       "      <th>country</th>\n",
       "      <th>date</th>\n",
       "      <th>topic</th>\n",
       "      <th>content</th>\n",
       "    </tr>\n",
       "  </thead>\n",
       "  <tbody>\n",
       "    <tr>\n",
       "      <th>0</th>\n",
       "      <td>Vladimiro Mascaro</td>\n",
       "      <td>3.0</td>\n",
       "      <td>Friday, October 11, 2024 at 06:25:37 p.m.</td>\n",
       "      <td>1</td>\n",
       "      <td>amazon</td>\n",
       "      <td>United Kingdom</td>\n",
       "      <td>2024-10-01 18:25:37</td>\n",
       "      <td>4 months of total incopetence</td>\n",
       "      <td>since july until this month of all my orders 8...</td>\n",
       "    </tr>\n",
       "    <tr>\n",
       "      <th>1</th>\n",
       "      <td>Lucy Loo</td>\n",
       "      <td>9.0</td>\n",
       "      <td>Friday, October 11, 2024 at 09:57:32 a.m.</td>\n",
       "      <td>1</td>\n",
       "      <td>amazon</td>\n",
       "      <td>United Kingdom</td>\n",
       "      <td>2024-10-01 09:57:32</td>\n",
       "      <td>driver stealing</td>\n",
       "      <td>as a family we order from amazon almost daily ...</td>\n",
       "    </tr>\n",
       "    <tr>\n",
       "      <th>2</th>\n",
       "      <td>Da</td>\n",
       "      <td>21.0</td>\n",
       "      <td>Thursday, October 10, 2024 at 11:36:09 a.m.</td>\n",
       "      <td>5</td>\n",
       "      <td>amazon</td>\n",
       "      <td>United Kingdom</td>\n",
       "      <td>2024-10-01 11:36:09</td>\n",
       "      <td>where is the negativity coming from</td>\n",
       "      <td>probably the only store that 1 delivers ontime...</td>\n",
       "    </tr>\n",
       "    <tr>\n",
       "      <th>3</th>\n",
       "      <td>Vicki Study</td>\n",
       "      <td>1.0</td>\n",
       "      <td>Friday, October 11, 2024 at 03:36:33 p.m.</td>\n",
       "      <td>1</td>\n",
       "      <td>amazon</td>\n",
       "      <td>United Kingdom</td>\n",
       "      <td>2024-10-01 15:36:33</td>\n",
       "      <td>absolutely appalling customer service</td>\n",
       "      <td>the customer service has been absolutely appal...</td>\n",
       "    </tr>\n",
       "    <tr>\n",
       "      <th>4</th>\n",
       "      <td>Jeffrey Bruce</td>\n",
       "      <td>5.0</td>\n",
       "      <td>Thursday, October 10, 2024 at 05:09:02 p.m.</td>\n",
       "      <td>1</td>\n",
       "      <td>amazon</td>\n",
       "      <td>United Kingdom</td>\n",
       "      <td>2024-10-01 17:09:02</td>\n",
       "      <td>amazon are quick enough to take payment</td>\n",
       "      <td>amazon are quick enough to take payment for or...</td>\n",
       "    </tr>\n",
       "  </tbody>\n",
       "</table>\n",
       "</div>"
      ],
      "text/plain": [
       "                name  review                                     date_old  \\\n",
       "0  Vladimiro Mascaro     3.0    Friday, October 11, 2024 at 06:25:37 p.m.   \n",
       "1           Lucy Loo     9.0    Friday, October 11, 2024 at 09:57:32 a.m.   \n",
       "2                 Da    21.0  Thursday, October 10, 2024 at 11:36:09 a.m.   \n",
       "3        Vicki Study     1.0    Friday, October 11, 2024 at 03:36:33 p.m.   \n",
       "4      Jeffrey Bruce     5.0  Thursday, October 10, 2024 at 05:09:02 p.m.   \n",
       "\n",
       "   rating company         country                date  \\\n",
       "0       1  amazon  United Kingdom 2024-10-01 18:25:37   \n",
       "1       1  amazon  United Kingdom 2024-10-01 09:57:32   \n",
       "2       5  amazon  United Kingdom 2024-10-01 11:36:09   \n",
       "3       1  amazon  United Kingdom 2024-10-01 15:36:33   \n",
       "4       1  amazon  United Kingdom 2024-10-01 17:09:02   \n",
       "\n",
       "                                     topic  \\\n",
       "0            4 months of total incopetence   \n",
       "1                         driver stealing    \n",
       "2      where is the negativity coming from   \n",
       "3   absolutely appalling customer service    \n",
       "4  amazon are quick enough to take payment   \n",
       "\n",
       "                                             content  \n",
       "0  since july until this month of all my orders 8...  \n",
       "1  as a family we order from amazon almost daily ...  \n",
       "2  probably the only store that 1 delivers ontime...  \n",
       "3  the customer service has been absolutely appal...  \n",
       "4  amazon are quick enough to take payment for or...  "
      ]
     },
     "execution_count": 166,
     "metadata": {},
     "output_type": "execute_result"
    }
   ],
   "source": [
    "df.head()"
   ]
  },
  {
   "cell_type": "code",
   "execution_count": 167,
   "metadata": {},
   "outputs": [
    {
     "data": {
      "text/plain": [
       "Index(['name', 'review', 'date_old', 'rating', 'company', 'country', 'date',\n",
       "       'topic', 'content'],\n",
       "      dtype='object')"
      ]
     },
     "execution_count": 167,
     "metadata": {},
     "output_type": "execute_result"
    }
   ],
   "source": [
    "df.columns"
   ]
  },
  {
   "cell_type": "code",
   "execution_count": 168,
   "metadata": {},
   "outputs": [],
   "source": [
    "df.to_csv('amazon_reviews_cleaned.csv')"
   ]
  },
  {
   "cell_type": "code",
   "execution_count": null,
   "metadata": {},
   "outputs": [],
   "source": []
  }
 ],
 "metadata": {
  "kernelspec": {
   "display_name": "Python 3",
   "language": "python",
   "name": "python3"
  },
  "language_info": {
   "codemirror_mode": {
    "name": "ipython",
    "version": 3
   },
   "file_extension": ".py",
   "mimetype": "text/x-python",
   "name": "python",
   "nbconvert_exporter": "python",
   "pygments_lexer": "ipython3",
   "version": "3.12.5"
  }
 },
 "nbformat": 4,
 "nbformat_minor": 2
}
