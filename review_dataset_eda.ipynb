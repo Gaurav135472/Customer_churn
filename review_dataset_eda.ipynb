{
 "cells": [
  {
   "cell_type": "code",
   "execution_count": 2,
   "metadata": {},
   "outputs": [],
   "source": [
    "import numpy as np\n",
    "import pandas as pd \n",
    "import seaborn as sns \n",
    "import matplotlib.pyplot as plt"
   ]
  },
  {
   "cell_type": "code",
   "execution_count": 3,
   "metadata": {},
   "outputs": [],
   "source": [
    "df = pd.read_csv('review_dataset_v2.csv')"
   ]
  },
  {
   "cell_type": "markdown",
   "metadata": {},
   "source": [
    "## Column Types"
   ]
  },
  {
   "cell_type": "markdown",
   "metadata": {},
   "source": [
    "* Numerical - review , rating, date, sentiment score, sentiment magnitude, confident\n",
    "* Categorical - company , country, review class, deletected lang, category\n",
    "* Mixed - name , topic, content, positive class, negative class"
   ]
  },
  {
   "cell_type": "markdown",
   "metadata": {},
   "source": [
    "## Univariate Analysis"
   ]
  },
  {
   "cell_type": "code",
   "execution_count": 4,
   "metadata": {},
   "outputs": [
    {
     "name": "stdout",
     "output_type": "stream",
     "text": [
      "<class 'pandas.core.frame.DataFrame'>\n",
      "RangeIndex: 1456 entries, 0 to 1455\n",
      "Data columns (total 17 columns):\n",
      " #   Column               Non-Null Count  Dtype  \n",
      "---  ------               --------------  -----  \n",
      " 0   name                 1456 non-null   object \n",
      " 1   review               1456 non-null   float64\n",
      " 2   rating               1456 non-null   int64  \n",
      " 3   company              1456 non-null   object \n",
      " 4   country              1456 non-null   object \n",
      " 5   date                 1456 non-null   object \n",
      " 6   topic                1456 non-null   object \n",
      " 7   content              1456 non-null   object \n",
      " 8   sentiment_score      1456 non-null   float64\n",
      " 9   sentiment_magnitude  1456 non-null   float64\n",
      " 10  entities             1456 non-null   object \n",
      " 11  review_class         1456 non-null   object \n",
      " 12  positive_reasons     1456 non-null   object \n",
      " 13  negative_reasons     1456 non-null   object \n",
      " 14  detected_language    1456 non-null   object \n",
      " 15  category             700 non-null    object \n",
      " 16  confidence           681 non-null    float64\n",
      "dtypes: float64(4), int64(1), object(12)\n",
      "memory usage: 193.5+ KB\n"
     ]
    }
   ],
   "source": [
    "df.info()"
   ]
  },
  {
   "cell_type": "code",
   "execution_count": 5,
   "metadata": {},
   "outputs": [
    {
     "data": {
      "text/html": [
       "<div>\n",
       "<style scoped>\n",
       "    .dataframe tbody tr th:only-of-type {\n",
       "        vertical-align: middle;\n",
       "    }\n",
       "\n",
       "    .dataframe tbody tr th {\n",
       "        vertical-align: top;\n",
       "    }\n",
       "\n",
       "    .dataframe thead th {\n",
       "        text-align: right;\n",
       "    }\n",
       "</style>\n",
       "<table border=\"1\" class=\"dataframe\">\n",
       "  <thead>\n",
       "    <tr style=\"text-align: right;\">\n",
       "      <th></th>\n",
       "      <th>review</th>\n",
       "      <th>rating</th>\n",
       "      <th>sentiment_score</th>\n",
       "      <th>sentiment_magnitude</th>\n",
       "      <th>confidence</th>\n",
       "    </tr>\n",
       "  </thead>\n",
       "  <tbody>\n",
       "    <tr>\n",
       "      <th>count</th>\n",
       "      <td>1456.000000</td>\n",
       "      <td>1456.000000</td>\n",
       "      <td>1456.000000</td>\n",
       "      <td>1456.000000</td>\n",
       "      <td>681.000000</td>\n",
       "    </tr>\n",
       "    <tr>\n",
       "      <th>mean</th>\n",
       "      <td>5.976648</td>\n",
       "      <td>1.940247</td>\n",
       "      <td>-0.392514</td>\n",
       "      <td>0.780769</td>\n",
       "      <td>0.692291</td>\n",
       "    </tr>\n",
       "    <tr>\n",
       "      <th>std</th>\n",
       "      <td>13.457001</td>\n",
       "      <td>1.597636</td>\n",
       "      <td>0.620247</td>\n",
       "      <td>0.280502</td>\n",
       "      <td>0.142589</td>\n",
       "    </tr>\n",
       "    <tr>\n",
       "      <th>min</th>\n",
       "      <td>1.000000</td>\n",
       "      <td>1.000000</td>\n",
       "      <td>-0.900000</td>\n",
       "      <td>0.000000</td>\n",
       "      <td>0.500000</td>\n",
       "    </tr>\n",
       "    <tr>\n",
       "      <th>25%</th>\n",
       "      <td>1.000000</td>\n",
       "      <td>1.000000</td>\n",
       "      <td>-0.800000</td>\n",
       "      <td>0.700000</td>\n",
       "      <td>0.560000</td>\n",
       "    </tr>\n",
       "    <tr>\n",
       "      <th>50%</th>\n",
       "      <td>2.000000</td>\n",
       "      <td>1.000000</td>\n",
       "      <td>-0.700000</td>\n",
       "      <td>0.700000</td>\n",
       "      <td>0.670000</td>\n",
       "    </tr>\n",
       "    <tr>\n",
       "      <th>75%</th>\n",
       "      <td>5.000000</td>\n",
       "      <td>2.000000</td>\n",
       "      <td>-0.500000</td>\n",
       "      <td>0.800000</td>\n",
       "      <td>0.810000</td>\n",
       "    </tr>\n",
       "    <tr>\n",
       "      <th>max</th>\n",
       "      <td>172.000000</td>\n",
       "      <td>5.000000</td>\n",
       "      <td>0.900000</td>\n",
       "      <td>4.000000</td>\n",
       "      <td>0.990000</td>\n",
       "    </tr>\n",
       "  </tbody>\n",
       "</table>\n",
       "</div>"
      ],
      "text/plain": [
       "            review       rating  sentiment_score  sentiment_magnitude  \\\n",
       "count  1456.000000  1456.000000      1456.000000          1456.000000   \n",
       "mean      5.976648     1.940247        -0.392514             0.780769   \n",
       "std      13.457001     1.597636         0.620247             0.280502   \n",
       "min       1.000000     1.000000        -0.900000             0.000000   \n",
       "25%       1.000000     1.000000        -0.800000             0.700000   \n",
       "50%       2.000000     1.000000        -0.700000             0.700000   \n",
       "75%       5.000000     2.000000        -0.500000             0.800000   \n",
       "max     172.000000     5.000000         0.900000             4.000000   \n",
       "\n",
       "       confidence  \n",
       "count  681.000000  \n",
       "mean     0.692291  \n",
       "std      0.142589  \n",
       "min      0.500000  \n",
       "25%      0.560000  \n",
       "50%      0.670000  \n",
       "75%      0.810000  \n",
       "max      0.990000  "
      ]
     },
     "execution_count": 5,
     "metadata": {},
     "output_type": "execute_result"
    }
   ],
   "source": [
    "df.describe()"
   ]
  },
  {
   "cell_type": "markdown",
   "metadata": {},
   "source": [
    "#### Review\n",
    "\n",
    "* Conclusion\n",
    "    1. This data is is highly skew \n",
    "    2. Most people gave around 1 to 5 review. more then half of them are those who gave 2 review.\n",
    "    3. Too many outlines are in data but still need to keep them or no need to change that"
   ]
  },
  {
   "cell_type": "code",
   "execution_count": 6,
   "metadata": {},
   "outputs": [
    {
     "data": {
      "text/plain": [
       "count    1456.000000\n",
       "mean        5.976648\n",
       "std        13.457001\n",
       "min         1.000000\n",
       "25%         1.000000\n",
       "50%         2.000000\n",
       "75%         5.000000\n",
       "max       172.000000\n",
       "Name: review, dtype: float64"
      ]
     },
     "execution_count": 6,
     "metadata": {},
     "output_type": "execute_result"
    }
   ],
   "source": [
    "df['review'].describe()"
   ]
  },
  {
   "cell_type": "code",
   "execution_count": 7,
   "metadata": {},
   "outputs": [
    {
     "data": {
      "text/html": [
       "<div>\n",
       "<style scoped>\n",
       "    .dataframe tbody tr th:only-of-type {\n",
       "        vertical-align: middle;\n",
       "    }\n",
       "\n",
       "    .dataframe tbody tr th {\n",
       "        vertical-align: top;\n",
       "    }\n",
       "\n",
       "    .dataframe thead th {\n",
       "        text-align: right;\n",
       "    }\n",
       "</style>\n",
       "<table border=\"1\" class=\"dataframe\">\n",
       "  <thead>\n",
       "    <tr style=\"text-align: right;\">\n",
       "      <th></th>\n",
       "      <th>name</th>\n",
       "      <th>review</th>\n",
       "      <th>rating</th>\n",
       "      <th>company</th>\n",
       "      <th>country</th>\n",
       "      <th>date</th>\n",
       "      <th>topic</th>\n",
       "      <th>content</th>\n",
       "      <th>sentiment_score</th>\n",
       "      <th>sentiment_magnitude</th>\n",
       "      <th>entities</th>\n",
       "      <th>review_class</th>\n",
       "      <th>positive_reasons</th>\n",
       "      <th>negative_reasons</th>\n",
       "      <th>detected_language</th>\n",
       "      <th>category</th>\n",
       "      <th>confidence</th>\n",
       "    </tr>\n",
       "  </thead>\n",
       "  <tbody>\n",
       "  </tbody>\n",
       "</table>\n",
       "</div>"
      ],
      "text/plain": [
       "Empty DataFrame\n",
       "Columns: [name, review, rating, company, country, date, topic, content, sentiment_score, sentiment_magnitude, entities, review_class, positive_reasons, negative_reasons, detected_language, category, confidence]\n",
       "Index: []"
      ]
     },
     "execution_count": 7,
     "metadata": {},
     "output_type": "execute_result"
    }
   ],
   "source": [
    "df[df.duplicated()]"
   ]
  },
  {
   "cell_type": "code",
   "execution_count": 8,
   "metadata": {},
   "outputs": [
    {
     "data": {
      "text/plain": [
       "name                   23\n",
       "review                 23\n",
       "rating                 23\n",
       "company                23\n",
       "country                23\n",
       "date                   23\n",
       "topic                  23\n",
       "content                23\n",
       "sentiment_score        23\n",
       "sentiment_magnitude    23\n",
       "entities               23\n",
       "review_class           23\n",
       "positive_reasons       23\n",
       "negative_reasons       23\n",
       "detected_language      23\n",
       "category               16\n",
       "confidence             15\n",
       "dtype: int64"
      ]
     },
     "execution_count": 8,
     "metadata": {},
     "output_type": "execute_result"
    }
   ],
   "source": [
    "df[df['review'] > 50].count()"
   ]
  },
  {
   "cell_type": "code",
   "execution_count": 9,
   "metadata": {},
   "outputs": [
    {
     "data": {
      "text/plain": [
       "<Axes: xlabel='review', ylabel='Count'>"
      ]
     },
     "execution_count": 9,
     "metadata": {},
     "output_type": "execute_result"
    },
    {
     "data": {
      "image/png": "[encoded data removed]",
      "text/plain": [
       "<Figure size 640x480 with 1 Axes>"
      ]
     },
     "metadata": {},
     "output_type": "display_data"
    }
   ],
   "source": [
    "sns.histplot(df['review'], kde=True)"
   ]
  },
  {
   "cell_type": "code",
   "execution_count": 10,
   "metadata": {},
   "outputs": [
    {
     "data": {
      "text/plain": [
       "<Axes: ylabel='Frequency'>"
      ]
     },
     "execution_count": 10,
     "metadata": {},
     "output_type": "execute_result"
    },
    {
     "data": {
      "image/png": "[encoded data removed]",
      "text/plain": [
       "<Figure size 640x480 with 1 Axes>"
      ]
     },
     "metadata": {},
     "output_type": "display_data"
    }
   ],
   "source": [
    "df[df['review'] > 50]['review'].plot(kind='hist', bins=5)"
   ]
  },
  {
   "cell_type": "code",
   "execution_count": 11,
   "metadata": {},
   "outputs": [
    {
     "data": {
      "text/plain": [
       "<Axes: ylabel='Density'>"
      ]
     },
     "execution_count": 11,
     "metadata": {},
     "output_type": "execute_result"
    },
    {
     "data": {
      "image/png": "[encoded data removed]",
      "text/plain": [
       "<Figure size 640x480 with 1 Axes>"
      ]
     },
     "metadata": {},
     "output_type": "display_data"
    }
   ],
   "source": [
    "df['review'].plot(kind='kde')"
   ]
  },
  {
   "cell_type": "code",
   "execution_count": 12,
   "metadata": {},
   "outputs": [
    {
     "data": {
      "text/plain": [
       "np.float64(6.449684920728695)"
      ]
     },
     "execution_count": 12,
     "metadata": {},
     "output_type": "execute_result"
    }
   ],
   "source": [
    "df['review'].skew()"
   ]
  },
  {
   "cell_type": "code",
   "execution_count": 13,
   "metadata": {},
   "outputs": [
    {
     "data": {
      "text/plain": [
       "<Axes: >"
      ]
     },
     "execution_count": 13,
     "metadata": {},
     "output_type": "execute_result"
    },
    {
     "data": {
      "image/png": "[encoded data removed]",
      "text/plain": [
       "<Figure size 640x480 with 1 Axes>"
      ]
     },
     "metadata": {},
     "output_type": "display_data"
    }
   ],
   "source": [
    "df['review'].plot(kind='box', logy=True)"
   ]
  },
  {
   "cell_type": "code",
   "execution_count": 14,
   "metadata": {},
   "outputs": [
    {
     "name": "stdout",
     "output_type": "stream",
     "text": [
      "1.0\n",
      "172.0\n",
      "1.0\n",
      "2.0\n",
      "5.0\n",
      "5.976648351648351\n",
      "2.0\n",
      "1.0\n"
     ]
    }
   ],
   "source": [
    "print(df.review.min())\n",
    "print(df.review.max())\n",
    "print(df.review.quantile(.25))\n",
    "print(df.review.quantile(.50))\n",
    "print(df.review.quantile(.75))\n",
    "print(df.review.mean())\n",
    "print(df.review.median())\n",
    "print(df.review.mode().values[0])"
   ]
  },
  {
   "cell_type": "code",
   "execution_count": 15,
   "metadata": {},
   "outputs": [],
   "source": [
    "review_std = df['review'].std()"
   ]
  },
  {
   "cell_type": "code",
   "execution_count": 81,
   "metadata": {},
   "outputs": [
    {
     "data": {
      "text/plain": [
       "np.float64(5.976648351648351)"
      ]
     },
     "execution_count": 16,
     "metadata": {},
     "output_type": "execute_result"
    }
   ],
   "source": [
    "review_mean = df['review'].mean()\n",
    "review_mean"
   ]
  },
  {
   "cell_type": "code",
   "execution_count": 82,
   "metadata": {},
   "outputs": [
    {
     "data": {
      "text/plain": [
       "np.float64(13.457000529852516)"
      ]
     },
     "execution_count": 17,
     "metadata": {},
     "output_type": "execute_result"
    }
   ],
   "source": [
    "review_std"
   ]
  },
  {
   "cell_type": "code",
   "execution_count": 83,
   "metadata": {},
   "outputs": [
    {
     "data": {
      "text/plain": [
       "np.float64(-34.3943532379092)"
      ]
     },
     "execution_count": 18,
     "metadata": {},
     "output_type": "execute_result"
    }
   ],
   "source": [
    "low = review_mean - 3 * review_std\n",
    "low"
   ]
  },
  {
   "cell_type": "code",
   "execution_count": 84,
   "metadata": {},
   "outputs": [
    {
     "data": {
      "text/plain": [
       "np.float64(46.3476499412059)"
      ]
     },
     "execution_count": 19,
     "metadata": {},
     "output_type": "execute_result"
    }
   ],
   "source": [
    "high = review_mean + 3*review_std\n",
    "high"
   ]
  },
  {
   "cell_type": "code",
   "execution_count": 99,
   "metadata": {},
   "outputs": [
    {
     "data": {
      "text/html": [
       "<div>\n",
       "<style scoped>\n",
       "    .dataframe tbody tr th:only-of-type {\n",
       "        vertical-align: middle;\n",
       "    }\n",
       "\n",
       "    .dataframe tbody tr th {\n",
       "        vertical-align: top;\n",
       "    }\n",
       "\n",
       "    .dataframe thead th {\n",
       "        text-align: right;\n",
       "    }\n",
       "</style>\n",
       "<table border=\"1\" class=\"dataframe\">\n",
       "  <thead>\n",
       "    <tr style=\"text-align: right;\">\n",
       "      <th></th>\n",
       "      <th>name</th>\n",
       "      <th>review</th>\n",
       "      <th>rating</th>\n",
       "      <th>company</th>\n",
       "      <th>country</th>\n",
       "      <th>date</th>\n",
       "      <th>topic</th>\n",
       "      <th>content</th>\n",
       "      <th>sentiment_score</th>\n",
       "      <th>sentiment_magnitude</th>\n",
       "      <th>entities</th>\n",
       "      <th>review_class</th>\n",
       "      <th>positive_reasons</th>\n",
       "      <th>negative_reasons</th>\n",
       "      <th>detected_language</th>\n",
       "      <th>category</th>\n",
       "      <th>confidence</th>\n",
       "    </tr>\n",
       "  </thead>\n",
       "  <tbody>\n",
       "    <tr>\n",
       "      <th>26</th>\n",
       "      <td>p fisher</td>\n",
       "      <td>93.0</td>\n",
       "      <td>1</td>\n",
       "      <td>amazon</td>\n",
       "      <td>united kingdom</td>\n",
       "      <td>2024-10-01 18:51:01</td>\n",
       "      <td>criminal behaviour</td>\n",
       "      <td>i told amazon to cancel an order the driver st...</td>\n",
       "      <td>-0.7</td>\n",
       "      <td>0.7</td>\n",
       "      <td>neighbours, driver, amazon, order, money, refu...</td>\n",
       "      <td>negative</td>\n",
       "      <td>no_positive</td>\n",
       "      <td>i told amazon to cancel an order the driver st...</td>\n",
       "      <td>en</td>\n",
       "      <td>NaN</td>\n",
       "      <td>NaN</td>\n",
       "    </tr>\n",
       "    <tr>\n",
       "      <th>81</th>\n",
       "      <td>stephen n.</td>\n",
       "      <td>59.0</td>\n",
       "      <td>1</td>\n",
       "      <td>amazon</td>\n",
       "      <td>united kingdom</td>\n",
       "      <td>2024-10-01 10:32:11</td>\n",
       "      <td>80 minutes wasted on their customer services</td>\n",
       "      <td>i had an offer as a loyal customer to get grea...</td>\n",
       "      <td>-0.7</td>\n",
       "      <td>0.7</td>\n",
       "      <td>benefits, customer, barclaycard, offer, one, q...</td>\n",
       "      <td>negative</td>\n",
       "      <td>no_positive</td>\n",
       "      <td>i had an offer as a loyal customer to get grea...</td>\n",
       "      <td>en</td>\n",
       "      <td>finance</td>\n",
       "      <td>0.67</td>\n",
       "    </tr>\n",
       "    <tr>\n",
       "      <th>83</th>\n",
       "      <td>joanne collins</td>\n",
       "      <td>54.0</td>\n",
       "      <td>1</td>\n",
       "      <td>amazon</td>\n",
       "      <td>united kingdom</td>\n",
       "      <td>2024-10-01 07:38:38</td>\n",
       "      <td>still no account</td>\n",
       "      <td>well i left it for a week hoping my amazon acc...</td>\n",
       "      <td>-0.8</td>\n",
       "      <td>0.8</td>\n",
       "      <td>account, amazon, telephone number, telephone n...</td>\n",
       "      <td>negative</td>\n",
       "      <td>no_positive</td>\n",
       "      <td>well i left it for a week hoping my amazon acc...</td>\n",
       "      <td>en</td>\n",
       "      <td>NaN</td>\n",
       "      <td>NaN</td>\n",
       "    </tr>\n",
       "    <tr>\n",
       "      <th>123</th>\n",
       "      <td>dmac</td>\n",
       "      <td>77.0</td>\n",
       "      <td>1</td>\n",
       "      <td>amazon</td>\n",
       "      <td>united kingdom</td>\n",
       "      <td>2024-10-01 03:50:34</td>\n",
       "      <td>prime big deal   what do you take me for</td>\n",
       "      <td>come on amazon treat me seriously  a ceiling s...</td>\n",
       "      <td>0.2</td>\n",
       "      <td>0.2</td>\n",
       "      <td>deal, amazon, ceiling spotlight, sale, bargain...</td>\n",
       "      <td>positive</td>\n",
       "      <td>come on amazon treat me seriously  a ceiling s...</td>\n",
       "      <td>no_negative</td>\n",
       "      <td>en</td>\n",
       "      <td>home &amp; garden'</td>\n",
       "      <td>0.76</td>\n",
       "    </tr>\n",
       "    <tr>\n",
       "      <th>130</th>\n",
       "      <td>ian wooller</td>\n",
       "      <td>122.0</td>\n",
       "      <td>1</td>\n",
       "      <td>amazon</td>\n",
       "      <td>united kingdom</td>\n",
       "      <td>2024-10-01 09:18:33</td>\n",
       "      <td>cancelled order</td>\n",
       "      <td>they cancelled an order that was going to be d...</td>\n",
       "      <td>-0.8</td>\n",
       "      <td>0.8</td>\n",
       "      <td>order, customer, anything, reason</td>\n",
       "      <td>negative</td>\n",
       "      <td>no_positive</td>\n",
       "      <td>they cancelled an order that was going to be d...</td>\n",
       "      <td>en</td>\n",
       "      <td>arts &amp; entertainment'</td>\n",
       "      <td>0.55</td>\n",
       "    </tr>\n",
       "  </tbody>\n",
       "</table>\n",
       "</div>"
      ],
      "text/plain": [
       "               name  review  rating company         country  \\\n",
       "26         p fisher    93.0       1  amazon  united kingdom   \n",
       "81       stephen n.    59.0       1  amazon  united kingdom   \n",
       "83   joanne collins    54.0       1  amazon  united kingdom   \n",
       "123            dmac    77.0       1  amazon  united kingdom   \n",
       "130     ian wooller   122.0       1  amazon  united kingdom   \n",
       "\n",
       "                    date                                         topic  \\\n",
       "26   2024-10-01 18:51:01                            criminal behaviour   \n",
       "81   2024-10-01 10:32:11  80 minutes wasted on their customer services   \n",
       "83   2024-10-01 07:38:38                             still no account    \n",
       "123  2024-10-01 03:50:34     prime big deal   what do you take me for    \n",
       "130  2024-10-01 09:18:33                               cancelled order   \n",
       "\n",
       "                                               content  sentiment_score  \\\n",
       "26   i told amazon to cancel an order the driver st...             -0.7   \n",
       "81   i had an offer as a loyal customer to get grea...             -0.7   \n",
       "83   well i left it for a week hoping my amazon acc...             -0.8   \n",
       "123  come on amazon treat me seriously  a ceiling s...              0.2   \n",
       "130  they cancelled an order that was going to be d...             -0.8   \n",
       "\n",
       "     sentiment_magnitude                                           entities  \\\n",
       "26                   0.7  neighbours, driver, amazon, order, money, refu...   \n",
       "81                   0.7  benefits, customer, barclaycard, offer, one, q...   \n",
       "83                   0.8  account, amazon, telephone number, telephone n...   \n",
       "123                  0.2  deal, amazon, ceiling spotlight, sale, bargain...   \n",
       "130                  0.8                  order, customer, anything, reason   \n",
       "\n",
       "    review_class                                   positive_reasons  \\\n",
       "26      negative                                        no_positive   \n",
       "81      negative                                        no_positive   \n",
       "83      negative                                        no_positive   \n",
       "123     positive  come on amazon treat me seriously  a ceiling s...   \n",
       "130     negative                                        no_positive   \n",
       "\n",
       "                                      negative_reasons detected_language  \\\n",
       "26   i told amazon to cancel an order the driver st...                en   \n",
       "81   i had an offer as a loyal customer to get grea...                en   \n",
       "83   well i left it for a week hoping my amazon acc...                en   \n",
       "123                                        no_negative                en   \n",
       "130  they cancelled an order that was going to be d...                en   \n",
       "\n",
       "                  category  confidence  \n",
       "26                     NaN         NaN  \n",
       "81                 finance        0.67  \n",
       "83                     NaN         NaN  \n",
       "123         home & garden'        0.76  \n",
       "130  arts & entertainment'        0.55  "
      ]
     },
     "execution_count": 20,
     "metadata": {},
     "output_type": "execute_result"
    }
   ],
   "source": [
    "tempdf = df[(df['review'] < low) | (df['review'] > high)]\n",
    "tempdf.head()"
   ]
  },
  {
   "cell_type": "code",
   "execution_count": 110,
   "metadata": {},
   "outputs": [
    {
     "data": {
      "text/plain": [
       "np.float64(6.449684920728695)"
      ]
     },
     "execution_count": 21,
     "metadata": {},
     "output_type": "execute_result"
    }
   ],
   "source": [
    "df['review'].skew()"
   ]
  },
  {
   "cell_type": "code",
   "execution_count": 111,
   "metadata": {},
   "outputs": [
    {
     "data": {
      "text/plain": [
       "np.float64(53.946585552372824)"
      ]
     },
     "execution_count": 22,
     "metadata": {},
     "output_type": "execute_result"
    }
   ],
   "source": [
    "df['review'].kurtosis()"
   ]
  },
  {
   "cell_type": "code",
   "execution_count": 27,
   "metadata": {},
   "outputs": [],
   "source": [
    "df['review_log'] = np.log1p(df['review'])\n"
   ]
  },
  {
   "cell_type": "code",
   "execution_count": 28,
   "metadata": {},
   "outputs": [],
   "source": [
    "df['review_sqrt'] = np.sqrt(df['review'])\n"
   ]
  },
  {
   "cell_type": "code",
   "execution_count": 26,
   "metadata": {},
   "outputs": [],
   "source": [
    "from scipy import stats\n",
    "df['review_boxcox'], lam = stats.boxcox(df['review'] + 1e-6)\n"
   ]
  },
  {
   "cell_type": "code",
   "execution_count": 29,
   "metadata": {},
   "outputs": [
    {
     "name": "stdout",
     "output_type": "stream",
     "text": [
      "Shapiro-Wilk Test p-value: 2.6034417937400104e-47\n"
     ]
    }
   ],
   "source": [
    "from scipy import stats\n",
    "stat, p_value = stats.shapiro(df['review_sqrt'].dropna())  \n",
    "print('Shapiro-Wilk Test p-value:', p_value)"
   ]
  },
  {
   "cell_type": "code",
   "execution_count": 30,
   "metadata": {},
   "outputs": [
    {
     "data": {
      "text/html": [
       "<div>\n",
       "<style scoped>\n",
       "    .dataframe tbody tr th:only-of-type {\n",
       "        vertical-align: middle;\n",
       "    }\n",
       "\n",
       "    .dataframe tbody tr th {\n",
       "        vertical-align: top;\n",
       "    }\n",
       "\n",
       "    .dataframe thead th {\n",
       "        text-align: right;\n",
       "    }\n",
       "</style>\n",
       "<table border=\"1\" class=\"dataframe\">\n",
       "  <thead>\n",
       "    <tr style=\"text-align: right;\">\n",
       "      <th></th>\n",
       "      <th>name</th>\n",
       "      <th>review</th>\n",
       "      <th>rating</th>\n",
       "      <th>company</th>\n",
       "      <th>country</th>\n",
       "      <th>date</th>\n",
       "      <th>topic</th>\n",
       "      <th>content</th>\n",
       "      <th>sentiment_score</th>\n",
       "      <th>sentiment_magnitude</th>\n",
       "      <th>entities</th>\n",
       "      <th>review_class</th>\n",
       "      <th>positive_reasons</th>\n",
       "      <th>negative_reasons</th>\n",
       "      <th>detected_language</th>\n",
       "      <th>category</th>\n",
       "      <th>confidence</th>\n",
       "      <th>review_boxcox</th>\n",
       "      <th>review_log</th>\n",
       "      <th>review_sqrt</th>\n",
       "    </tr>\n",
       "  </thead>\n",
       "  <tbody>\n",
       "    <tr>\n",
       "      <th>0</th>\n",
       "      <td>vladimiro mascaro</td>\n",
       "      <td>3.0</td>\n",
       "      <td>1</td>\n",
       "      <td>amazon</td>\n",
       "      <td>united kingdom</td>\n",
       "      <td>2024-10-01 18:25:37</td>\n",
       "      <td>4 months of total incopetence</td>\n",
       "      <td>since july until this month of all my orders 8...</td>\n",
       "      <td>-0.6</td>\n",
       "      <td>0.6</td>\n",
       "      <td>orders, orders, thing, direct debit, headphone...</td>\n",
       "      <td>negative</td>\n",
       "      <td>no_positive</td>\n",
       "      <td>since july until this month of all my orders 8...</td>\n",
       "      <td>en</td>\n",
       "      <td>shopping'</td>\n",
       "      <td>0.62</td>\n",
       "      <td>8.326414e-01</td>\n",
       "      <td>1.386294</td>\n",
       "      <td>1.732051</td>\n",
       "    </tr>\n",
       "    <tr>\n",
       "      <th>1</th>\n",
       "      <td>lucy loo</td>\n",
       "      <td>9.0</td>\n",
       "      <td>1</td>\n",
       "      <td>amazon</td>\n",
       "      <td>united kingdom</td>\n",
       "      <td>2024-10-01 09:57:32</td>\n",
       "      <td>driver stealing</td>\n",
       "      <td>as a family we order from amazon almost daily ...</td>\n",
       "      <td>-0.8</td>\n",
       "      <td>0.8</td>\n",
       "      <td>amazon, family, change, one, nothing, packages...</td>\n",
       "      <td>negative</td>\n",
       "      <td>no_positive</td>\n",
       "      <td>as a family we order from amazon almost daily ...</td>\n",
       "      <td>en</td>\n",
       "      <td>NaN</td>\n",
       "      <td>NaN</td>\n",
       "      <td>1.297622e+00</td>\n",
       "      <td>2.302585</td>\n",
       "      <td>3.000000</td>\n",
       "    </tr>\n",
       "    <tr>\n",
       "      <th>2</th>\n",
       "      <td>da</td>\n",
       "      <td>21.0</td>\n",
       "      <td>5</td>\n",
       "      <td>amazon</td>\n",
       "      <td>united kingdom</td>\n",
       "      <td>2024-10-01 11:36:09</td>\n",
       "      <td>where is the negativity coming from</td>\n",
       "      <td>probably the only store that 1 delivers ontime...</td>\n",
       "      <td>0.1</td>\n",
       "      <td>0.1</td>\n",
       "      <td>store, customers, prices, competitors, valuefo...</td>\n",
       "      <td>positive</td>\n",
       "      <td>probably the only store that 1 delivers ontime...</td>\n",
       "      <td>no_negative</td>\n",
       "      <td>en</td>\n",
       "      <td>NaN</td>\n",
       "      <td>NaN</td>\n",
       "      <td>1.510468e+00</td>\n",
       "      <td>3.091042</td>\n",
       "      <td>4.582576</td>\n",
       "    </tr>\n",
       "    <tr>\n",
       "      <th>3</th>\n",
       "      <td>vicki study</td>\n",
       "      <td>1.0</td>\n",
       "      <td>1</td>\n",
       "      <td>amazon</td>\n",
       "      <td>united kingdom</td>\n",
       "      <td>2024-10-01 15:36:33</td>\n",
       "      <td>absolutely appalling customer service</td>\n",
       "      <td>the customer service has been absolutely appal...</td>\n",
       "      <td>-0.7</td>\n",
       "      <td>0.7</td>\n",
       "      <td>customer service, calls, ive, fault, issue, am...</td>\n",
       "      <td>negative</td>\n",
       "      <td>no_positive</td>\n",
       "      <td>the customer service has been absolutely appal...</td>\n",
       "      <td>en</td>\n",
       "      <td>NaN</td>\n",
       "      <td>NaN</td>\n",
       "      <td>9.999992e-07</td>\n",
       "      <td>0.693147</td>\n",
       "      <td>1.000000</td>\n",
       "    </tr>\n",
       "    <tr>\n",
       "      <th>4</th>\n",
       "      <td>jeffrey bruce</td>\n",
       "      <td>5.0</td>\n",
       "      <td>1</td>\n",
       "      <td>amazon</td>\n",
       "      <td>united kingdom</td>\n",
       "      <td>2024-10-01 17:09:02</td>\n",
       "      <td>amazon are quick enough to take payment</td>\n",
       "      <td>amazon are quick enough to take payment for or...</td>\n",
       "      <td>-0.7</td>\n",
       "      <td>0.7</td>\n",
       "      <td>amazon, payment, orders, worst, claim, custome...</td>\n",
       "      <td>negative</td>\n",
       "      <td>no_positive</td>\n",
       "      <td>amazon are quick enough to take payment for or...</td>\n",
       "      <td>en</td>\n",
       "      <td>shopping'</td>\n",
       "      <td>0.62</td>\n",
       "      <td>1.082533e+00</td>\n",
       "      <td>1.791759</td>\n",
       "      <td>2.236068</td>\n",
       "    </tr>\n",
       "  </tbody>\n",
       "</table>\n",
       "</div>"
      ],
      "text/plain": [
       "                name  review  rating company         country  \\\n",
       "0  vladimiro mascaro     3.0       1  amazon  united kingdom   \n",
       "1           lucy loo     9.0       1  amazon  united kingdom   \n",
       "2                 da    21.0       5  amazon  united kingdom   \n",
       "3        vicki study     1.0       1  amazon  united kingdom   \n",
       "4      jeffrey bruce     5.0       1  amazon  united kingdom   \n",
       "\n",
       "                  date                                    topic  \\\n",
       "0  2024-10-01 18:25:37            4 months of total incopetence   \n",
       "1  2024-10-01 09:57:32                         driver stealing    \n",
       "2  2024-10-01 11:36:09      where is the negativity coming from   \n",
       "3  2024-10-01 15:36:33   absolutely appalling customer service    \n",
       "4  2024-10-01 17:09:02  amazon are quick enough to take payment   \n",
       "\n",
       "                                             content  sentiment_score  \\\n",
       "0  since july until this month of all my orders 8...             -0.6   \n",
       "1  as a family we order from amazon almost daily ...             -0.8   \n",
       "2  probably the only store that 1 delivers ontime...              0.1   \n",
       "3  the customer service has been absolutely appal...             -0.7   \n",
       "4  amazon are quick enough to take payment for or...             -0.7   \n",
       "\n",
       "   sentiment_magnitude                                           entities  \\\n",
       "0                  0.6  orders, orders, thing, direct debit, headphone...   \n",
       "1                  0.8  amazon, family, change, one, nothing, packages...   \n",
       "2                  0.1  store, customers, prices, competitors, valuefo...   \n",
       "3                  0.7  customer service, calls, ive, fault, issue, am...   \n",
       "4                  0.7  amazon, payment, orders, worst, claim, custome...   \n",
       "\n",
       "  review_class                                   positive_reasons  \\\n",
       "0     negative                                        no_positive   \n",
       "1     negative                                        no_positive   \n",
       "2     positive  probably the only store that 1 delivers ontime...   \n",
       "3     negative                                        no_positive   \n",
       "4     negative                                        no_positive   \n",
       "\n",
       "                                    negative_reasons detected_language  \\\n",
       "0  since july until this month of all my orders 8...                en   \n",
       "1  as a family we order from amazon almost daily ...                en   \n",
       "2                                        no_negative                en   \n",
       "3  the customer service has been absolutely appal...                en   \n",
       "4  amazon are quick enough to take payment for or...                en   \n",
       "\n",
       "    category  confidence  review_boxcox  review_log  review_sqrt  \n",
       "0  shopping'        0.62   8.326414e-01    1.386294     1.732051  \n",
       "1        NaN         NaN   1.297622e+00    2.302585     3.000000  \n",
       "2        NaN         NaN   1.510468e+00    3.091042     4.582576  \n",
       "3        NaN         NaN   9.999992e-07    0.693147     1.000000  \n",
       "4  shopping'        0.62   1.082533e+00    1.791759     2.236068  "
      ]
     },
     "execution_count": 30,
     "metadata": {},
     "output_type": "execute_result"
    }
   ],
   "source": [
    "df.head()"
   ]
  },
  {
   "cell_type": "markdown",
   "metadata": {},
   "source": [
    "### Rating"
   ]
  },
  {
   "cell_type": "code",
   "execution_count": 32,
   "metadata": {},
   "outputs": [
    {
     "data": {
      "text/plain": [
       "rating\n",
       "1    1031\n",
       "5     279\n",
       "2      74\n",
       "3      37\n",
       "4      35\n",
       "Name: count, dtype: int64"
      ]
     },
     "execution_count": 32,
     "metadata": {},
     "output_type": "execute_result"
    }
   ],
   "source": [
    "df['rating'].value_counts()"
   ]
  },
  {
   "cell_type": "code",
   "execution_count": 39,
   "metadata": {},
   "outputs": [
    {
     "data": {
      "text/plain": [
       "<Axes: ylabel='count'>"
      ]
     },
     "execution_count": 39,
     "metadata": {},
     "output_type": "execute_result"
    },
    {
     "data": {
      "image/png": "[encoded data removed]",
      "text/plain": [
       "<Figure size 640x480 with 1 Axes>"
      ]
     },
     "metadata": {},
     "output_type": "display_data"
    }
   ],
   "source": [
    "df['rating'].value_counts().plot(kind='pie')"
   ]
  },
  {
   "cell_type": "code",
   "execution_count": 47,
   "metadata": {},
   "outputs": [],
   "source": [
    "df['date'] = pd.to_datetime(df['date'])"
   ]
  },
  {
   "cell_type": "code",
   "execution_count": 48,
   "metadata": {},
   "outputs": [
    {
     "name": "stdout",
     "output_type": "stream",
     "text": [
      "<class 'pandas.core.frame.DataFrame'>\n",
      "RangeIndex: 1456 entries, 0 to 1455\n",
      "Data columns (total 20 columns):\n",
      " #   Column               Non-Null Count  Dtype         \n",
      "---  ------               --------------  -----         \n",
      " 0   name                 1456 non-null   object        \n",
      " 1   review               1456 non-null   float64       \n",
      " 2   rating               1456 non-null   int64         \n",
      " 3   company              1456 non-null   object        \n",
      " 4   country              1456 non-null   object        \n",
      " 5   date                 1456 non-null   datetime64[ns]\n",
      " 6   topic                1456 non-null   object        \n",
      " 7   content              1456 non-null   object        \n",
      " 8   sentiment_score      1456 non-null   float64       \n",
      " 9   sentiment_magnitude  1456 non-null   float64       \n",
      " 10  entities             1456 non-null   object        \n",
      " 11  review_class         1456 non-null   object        \n",
      " 12  positive_reasons     1456 non-null   object        \n",
      " 13  negative_reasons     1456 non-null   object        \n",
      " 14  detected_language    1456 non-null   object        \n",
      " 15  category             700 non-null    object        \n",
      " 16  confidence           681 non-null    float64       \n",
      " 17  review_boxcox        1456 non-null   float64       \n",
      " 18  review_log           1456 non-null   float64       \n",
      " 19  review_sqrt          1456 non-null   float64       \n",
      "dtypes: datetime64[ns](1), float64(7), int64(1), object(11)\n",
      "memory usage: 227.6+ KB\n"
     ]
    }
   ],
   "source": [
    "df.info()"
   ]
  },
  {
   "cell_type": "markdown",
   "metadata": {},
   "source": [
    "### Sentiment Analysis"
   ]
  },
  {
   "cell_type": "code",
   "execution_count": 50,
   "metadata": {},
   "outputs": [
    {
     "data": {
      "text/plain": [
       "sentiment_score\n",
       "-0.7    552\n",
       "-0.8    385\n",
       " 0.9    199\n",
       "-0.6    127\n",
       " 0.8     47\n",
       "-0.5     27\n",
       "-0.4     21\n",
       "-0.3     18\n",
       " 0.1     10\n",
       " 0.7     10\n",
       " 0.6      9\n",
       "-0.9      9\n",
       "-0.2      9\n",
       " 0.3      8\n",
       " 0.0      7\n",
       "-0.1      6\n",
       " 0.2      4\n",
       " 0.4      4\n",
       " 0.5      4\n",
       "Name: count, dtype: int64"
      ]
     },
     "execution_count": 50,
     "metadata": {},
     "output_type": "execute_result"
    }
   ],
   "source": [
    "df['sentiment_score'].value_counts()"
   ]
  },
  {
   "cell_type": "code",
   "execution_count": 51,
   "metadata": {},
   "outputs": [
    {
     "data": {
      "text/plain": [
       "count    1456.000000\n",
       "mean       -0.392514\n",
       "std         0.620247\n",
       "min        -0.900000\n",
       "25%        -0.800000\n",
       "50%        -0.700000\n",
       "75%        -0.500000\n",
       "max         0.900000\n",
       "Name: sentiment_score, dtype: float64"
      ]
     },
     "execution_count": 51,
     "metadata": {},
     "output_type": "execute_result"
    }
   ],
   "source": [
    "df['sentiment_score'].describe()"
   ]
  },
  {
   "cell_type": "code",
   "execution_count": 53,
   "metadata": {},
   "outputs": [
    {
     "ename": "AttributeError",
     "evalue": "Rectangle.set() got an unexpected keyword argument 'kde'",
     "output_type": "error",
     "traceback": [
      "\u001b[1;31m---------------------------------------------------------------------------\u001b[0m",
      "\u001b[1;31mAttributeError\u001b[0m                            Traceback (most recent call last)",
      "Cell \u001b[1;32mIn[53], line 1\u001b[0m\n\u001b[1;32m----> 1\u001b[0m \u001b[43mdf\u001b[49m\u001b[43m[\u001b[49m\u001b[38;5;124;43m'\u001b[39;49m\u001b[38;5;124;43msentiment_score\u001b[39;49m\u001b[38;5;124;43m'\u001b[39;49m\u001b[43m]\u001b[49m\u001b[38;5;241;43m.\u001b[39;49m\u001b[43mplot\u001b[49m\u001b[43m(\u001b[49m\u001b[43mkind\u001b[49m\u001b[38;5;241;43m=\u001b[39;49m\u001b[38;5;124;43m'\u001b[39;49m\u001b[38;5;124;43mhist\u001b[39;49m\u001b[38;5;124;43m'\u001b[39;49m\u001b[43m,\u001b[49m\u001b[43m \u001b[49m\u001b[43mkde\u001b[49m\u001b[38;5;241;43m=\u001b[39;49m\u001b[38;5;28;43;01mTrue\u001b[39;49;00m\u001b[43m)\u001b[49m\n",
      "File \u001b[1;32mc:\\Users\\gaura\\AppData\\Local\\Programs\\Python\\Python313\\Lib\\site-packages\\pandas\\plotting\\_core.py:1030\u001b[0m, in \u001b[0;36mPlotAccessor.__call__\u001b[1;34m(self, *args, **kwargs)\u001b[0m\n\u001b[0;32m   1027\u001b[0m             label_name \u001b[38;5;241m=\u001b[39m label_kw \u001b[38;5;129;01mor\u001b[39;00m data\u001b[38;5;241m.\u001b[39mcolumns\n\u001b[0;32m   1028\u001b[0m             data\u001b[38;5;241m.\u001b[39mcolumns \u001b[38;5;241m=\u001b[39m label_name\n\u001b[1;32m-> 1030\u001b[0m \u001b[38;5;28;01mreturn\u001b[39;00m \u001b[43mplot_backend\u001b[49m\u001b[38;5;241;43m.\u001b[39;49m\u001b[43mplot\u001b[49m\u001b[43m(\u001b[49m\u001b[43mdata\u001b[49m\u001b[43m,\u001b[49m\u001b[43m \u001b[49m\u001b[43mkind\u001b[49m\u001b[38;5;241;43m=\u001b[39;49m\u001b[43mkind\u001b[49m\u001b[43m,\u001b[49m\u001b[43m \u001b[49m\u001b[38;5;241;43m*\u001b[39;49m\u001b[38;5;241;43m*\u001b[39;49m\u001b[43mkwargs\u001b[49m\u001b[43m)\u001b[49m\n",
      "File \u001b[1;32mc:\\Users\\gaura\\AppData\\Local\\Programs\\Python\\Python313\\Lib\\site-packages\\pandas\\plotting\\_matplotlib\\__init__.py:71\u001b[0m, in \u001b[0;36mplot\u001b[1;34m(data, kind, **kwargs)\u001b[0m\n\u001b[0;32m     69\u001b[0m         kwargs[\u001b[38;5;124m\"\u001b[39m\u001b[38;5;124max\u001b[39m\u001b[38;5;124m\"\u001b[39m] \u001b[38;5;241m=\u001b[39m \u001b[38;5;28mgetattr\u001b[39m(ax, \u001b[38;5;124m\"\u001b[39m\u001b[38;5;124mleft_ax\u001b[39m\u001b[38;5;124m\"\u001b[39m, ax)\n\u001b[0;32m     70\u001b[0m plot_obj \u001b[38;5;241m=\u001b[39m PLOT_CLASSES[kind](data, \u001b[38;5;241m*\u001b[39m\u001b[38;5;241m*\u001b[39mkwargs)\n\u001b[1;32m---> 71\u001b[0m \u001b[43mplot_obj\u001b[49m\u001b[38;5;241;43m.\u001b[39;49m\u001b[43mgenerate\u001b[49m\u001b[43m(\u001b[49m\u001b[43m)\u001b[49m\n\u001b[0;32m     72\u001b[0m plot_obj\u001b[38;5;241m.\u001b[39mdraw()\n\u001b[0;32m     73\u001b[0m \u001b[38;5;28;01mreturn\u001b[39;00m plot_obj\u001b[38;5;241m.\u001b[39mresult\n",
      "File \u001b[1;32mc:\\Users\\gaura\\AppData\\Local\\Programs\\Python\\Python313\\Lib\\site-packages\\pandas\\plotting\\_matplotlib\\core.py:501\u001b[0m, in \u001b[0;36mMPLPlot.generate\u001b[1;34m(self)\u001b[0m\n\u001b[0;32m    499\u001b[0m \u001b[38;5;28mself\u001b[39m\u001b[38;5;241m.\u001b[39m_compute_plot_data()\n\u001b[0;32m    500\u001b[0m fig \u001b[38;5;241m=\u001b[39m \u001b[38;5;28mself\u001b[39m\u001b[38;5;241m.\u001b[39mfig\n\u001b[1;32m--> 501\u001b[0m \u001b[38;5;28;43mself\u001b[39;49m\u001b[38;5;241;43m.\u001b[39;49m\u001b[43m_make_plot\u001b[49m\u001b[43m(\u001b[49m\u001b[43mfig\u001b[49m\u001b[43m)\u001b[49m\n\u001b[0;32m    502\u001b[0m \u001b[38;5;28mself\u001b[39m\u001b[38;5;241m.\u001b[39m_add_table()\n\u001b[0;32m    503\u001b[0m \u001b[38;5;28mself\u001b[39m\u001b[38;5;241m.\u001b[39m_make_legend()\n",
      "File \u001b[1;32mc:\\Users\\gaura\\AppData\\Local\\Programs\\Python\\Python313\\Lib\\site-packages\\pandas\\plotting\\_matplotlib\\hist.py:168\u001b[0m, in \u001b[0;36mHistPlot._make_plot\u001b[1;34m(self, fig)\u001b[0m\n\u001b[0;32m    164\u001b[0m     kwds[\u001b[38;5;124m\"\u001b[39m\u001b[38;5;124mweights\u001b[39m\u001b[38;5;124m\"\u001b[39m] \u001b[38;5;241m=\u001b[39m \u001b[38;5;28mtype\u001b[39m(\u001b[38;5;28mself\u001b[39m)\u001b[38;5;241m.\u001b[39m_get_column_weights(\u001b[38;5;28mself\u001b[39m\u001b[38;5;241m.\u001b[39mweights, i, y)\n\u001b[0;32m    166\u001b[0m y \u001b[38;5;241m=\u001b[39m reformat_hist_y_given_by(y, \u001b[38;5;28mself\u001b[39m\u001b[38;5;241m.\u001b[39mby)\n\u001b[1;32m--> 168\u001b[0m artists \u001b[38;5;241m=\u001b[39m \u001b[38;5;28;43mself\u001b[39;49m\u001b[38;5;241;43m.\u001b[39;49m\u001b[43m_plot\u001b[49m\u001b[43m(\u001b[49m\u001b[43max\u001b[49m\u001b[43m,\u001b[49m\u001b[43m \u001b[49m\u001b[43my\u001b[49m\u001b[43m,\u001b[49m\u001b[43m \u001b[49m\u001b[43mcolumn_num\u001b[49m\u001b[38;5;241;43m=\u001b[39;49m\u001b[43mi\u001b[49m\u001b[43m,\u001b[49m\u001b[43m \u001b[49m\u001b[43mstacking_id\u001b[49m\u001b[38;5;241;43m=\u001b[39;49m\u001b[43mstacking_id\u001b[49m\u001b[43m,\u001b[49m\u001b[43m \u001b[49m\u001b[38;5;241;43m*\u001b[39;49m\u001b[38;5;241;43m*\u001b[39;49m\u001b[43mkwds\u001b[49m\u001b[43m)\u001b[49m\n\u001b[0;32m    170\u001b[0m \u001b[38;5;66;03m# when by is applied, show title for subplots to know which group it is\u001b[39;00m\n\u001b[0;32m    171\u001b[0m \u001b[38;5;28;01mif\u001b[39;00m \u001b[38;5;28mself\u001b[39m\u001b[38;5;241m.\u001b[39mby \u001b[38;5;129;01mis\u001b[39;00m \u001b[38;5;129;01mnot\u001b[39;00m \u001b[38;5;28;01mNone\u001b[39;00m:\n",
      "File \u001b[1;32mc:\\Users\\gaura\\AppData\\Local\\Programs\\Python\\Python313\\Lib\\site-packages\\pandas\\plotting\\_matplotlib\\hist.py:122\u001b[0m, in \u001b[0;36mHistPlot._plot\u001b[1;34m(cls, ax, y, style, bottom, column_num, stacking_id, bins, **kwds)\u001b[0m\n\u001b[0;32m    120\u001b[0m bottom \u001b[38;5;241m=\u001b[39m bottom \u001b[38;5;241m+\u001b[39m \u001b[38;5;28mcls\u001b[39m\u001b[38;5;241m.\u001b[39m_get_stacked_values(ax, stacking_id, base, kwds[\u001b[38;5;124m\"\u001b[39m\u001b[38;5;124mlabel\u001b[39m\u001b[38;5;124m\"\u001b[39m])\n\u001b[0;32m    121\u001b[0m \u001b[38;5;66;03m# ignore style\u001b[39;00m\n\u001b[1;32m--> 122\u001b[0m n, bins, patches \u001b[38;5;241m=\u001b[39m \u001b[43max\u001b[49m\u001b[38;5;241;43m.\u001b[39;49m\u001b[43mhist\u001b[49m\u001b[43m(\u001b[49m\u001b[43my\u001b[49m\u001b[43m,\u001b[49m\u001b[43m \u001b[49m\u001b[43mbins\u001b[49m\u001b[38;5;241;43m=\u001b[39;49m\u001b[43mbins\u001b[49m\u001b[43m,\u001b[49m\u001b[43m \u001b[49m\u001b[43mbottom\u001b[49m\u001b[38;5;241;43m=\u001b[39;49m\u001b[43mbottom\u001b[49m\u001b[43m,\u001b[49m\u001b[43m \u001b[49m\u001b[38;5;241;43m*\u001b[39;49m\u001b[38;5;241;43m*\u001b[39;49m\u001b[43mkwds\u001b[49m\u001b[43m)\u001b[49m\n\u001b[0;32m    123\u001b[0m \u001b[38;5;28mcls\u001b[39m\u001b[38;5;241m.\u001b[39m_update_stacker(ax, stacking_id, n)\n\u001b[0;32m    124\u001b[0m \u001b[38;5;28;01mreturn\u001b[39;00m patches\n",
      "File \u001b[1;32mc:\\Users\\gaura\\AppData\\Local\\Programs\\Python\\Python313\\Lib\\site-packages\\matplotlib\\__init__.py:1473\u001b[0m, in \u001b[0;36m_preprocess_data.<locals>.inner\u001b[1;34m(ax, data, *args, **kwargs)\u001b[0m\n\u001b[0;32m   1470\u001b[0m \u001b[38;5;129m@functools\u001b[39m\u001b[38;5;241m.\u001b[39mwraps(func)\n\u001b[0;32m   1471\u001b[0m \u001b[38;5;28;01mdef\u001b[39;00m \u001b[38;5;21minner\u001b[39m(ax, \u001b[38;5;241m*\u001b[39margs, data\u001b[38;5;241m=\u001b[39m\u001b[38;5;28;01mNone\u001b[39;00m, \u001b[38;5;241m*\u001b[39m\u001b[38;5;241m*\u001b[39mkwargs):\n\u001b[0;32m   1472\u001b[0m     \u001b[38;5;28;01mif\u001b[39;00m data \u001b[38;5;129;01mis\u001b[39;00m \u001b[38;5;28;01mNone\u001b[39;00m:\n\u001b[1;32m-> 1473\u001b[0m         \u001b[38;5;28;01mreturn\u001b[39;00m \u001b[43mfunc\u001b[49m\u001b[43m(\u001b[49m\n\u001b[0;32m   1474\u001b[0m \u001b[43m            \u001b[49m\u001b[43max\u001b[49m\u001b[43m,\u001b[49m\n\u001b[0;32m   1475\u001b[0m \u001b[43m            \u001b[49m\u001b[38;5;241;43m*\u001b[39;49m\u001b[38;5;28;43mmap\u001b[39;49m\u001b[43m(\u001b[49m\u001b[43msanitize_sequence\u001b[49m\u001b[43m,\u001b[49m\u001b[43m \u001b[49m\u001b[43margs\u001b[49m\u001b[43m)\u001b[49m\u001b[43m,\u001b[49m\n\u001b[0;32m   1476\u001b[0m \u001b[43m            \u001b[49m\u001b[38;5;241;43m*\u001b[39;49m\u001b[38;5;241;43m*\u001b[39;49m\u001b[43m{\u001b[49m\u001b[43mk\u001b[49m\u001b[43m:\u001b[49m\u001b[43m \u001b[49m\u001b[43msanitize_sequence\u001b[49m\u001b[43m(\u001b[49m\u001b[43mv\u001b[49m\u001b[43m)\u001b[49m\u001b[43m \u001b[49m\u001b[38;5;28;43;01mfor\u001b[39;49;00m\u001b[43m \u001b[49m\u001b[43mk\u001b[49m\u001b[43m,\u001b[49m\u001b[43m \u001b[49m\u001b[43mv\u001b[49m\u001b[43m \u001b[49m\u001b[38;5;129;43;01min\u001b[39;49;00m\u001b[43m \u001b[49m\u001b[43mkwargs\u001b[49m\u001b[38;5;241;43m.\u001b[39;49m\u001b[43mitems\u001b[49m\u001b[43m(\u001b[49m\u001b[43m)\u001b[49m\u001b[43m}\u001b[49m\u001b[43m)\u001b[49m\n\u001b[0;32m   1478\u001b[0m     bound \u001b[38;5;241m=\u001b[39m new_sig\u001b[38;5;241m.\u001b[39mbind(ax, \u001b[38;5;241m*\u001b[39margs, \u001b[38;5;241m*\u001b[39m\u001b[38;5;241m*\u001b[39mkwargs)\n\u001b[0;32m   1479\u001b[0m     auto_label \u001b[38;5;241m=\u001b[39m (bound\u001b[38;5;241m.\u001b[39marguments\u001b[38;5;241m.\u001b[39mget(label_namer)\n\u001b[0;32m   1480\u001b[0m                   \u001b[38;5;129;01mor\u001b[39;00m bound\u001b[38;5;241m.\u001b[39mkwargs\u001b[38;5;241m.\u001b[39mget(label_namer))\n",
      "File \u001b[1;32mc:\\Users\\gaura\\AppData\\Local\\Programs\\Python\\Python313\\Lib\\site-packages\\matplotlib\\axes\\_axes.py:7154\u001b[0m, in \u001b[0;36mAxes.hist\u001b[1;34m(self, x, bins, range, density, weights, cumulative, bottom, histtype, align, orientation, rwidth, log, color, label, stacked, **kwargs)\u001b[0m\n\u001b[0;32m   7152\u001b[0m \u001b[38;5;28;01mif\u001b[39;00m patch:\n\u001b[0;32m   7153\u001b[0m     p \u001b[38;5;241m=\u001b[39m patch[\u001b[38;5;241m0\u001b[39m]\n\u001b[1;32m-> 7154\u001b[0m     \u001b[43mp\u001b[49m\u001b[38;5;241;43m.\u001b[39;49m\u001b[43m_internal_update\u001b[49m\u001b[43m(\u001b[49m\u001b[43mkwargs\u001b[49m\u001b[43m)\u001b[49m\n\u001b[0;32m   7155\u001b[0m     \u001b[38;5;28;01mif\u001b[39;00m lbl \u001b[38;5;129;01mis\u001b[39;00m \u001b[38;5;129;01mnot\u001b[39;00m \u001b[38;5;28;01mNone\u001b[39;00m:\n\u001b[0;32m   7156\u001b[0m         p\u001b[38;5;241m.\u001b[39mset_label(lbl)\n",
      "File \u001b[1;32mc:\\Users\\gaura\\AppData\\Local\\Programs\\Python\\Python313\\Lib\\site-packages\\matplotlib\\artist.py:1216\u001b[0m, in \u001b[0;36mArtist._internal_update\u001b[1;34m(self, kwargs)\u001b[0m\n\u001b[0;32m   1209\u001b[0m \u001b[38;5;28;01mdef\u001b[39;00m \u001b[38;5;21m_internal_update\u001b[39m(\u001b[38;5;28mself\u001b[39m, kwargs):\n\u001b[0;32m   1210\u001b[0m \u001b[38;5;250m    \u001b[39m\u001b[38;5;124;03m\"\"\"\u001b[39;00m\n\u001b[0;32m   1211\u001b[0m \u001b[38;5;124;03m    Update artist properties without prenormalizing them, but generating\u001b[39;00m\n\u001b[0;32m   1212\u001b[0m \u001b[38;5;124;03m    errors as if calling `set`.\u001b[39;00m\n\u001b[0;32m   1213\u001b[0m \n\u001b[0;32m   1214\u001b[0m \u001b[38;5;124;03m    The lack of prenormalization is to maintain backcompatibility.\u001b[39;00m\n\u001b[0;32m   1215\u001b[0m \u001b[38;5;124;03m    \"\"\"\u001b[39;00m\n\u001b[1;32m-> 1216\u001b[0m     \u001b[38;5;28;01mreturn\u001b[39;00m \u001b[38;5;28;43mself\u001b[39;49m\u001b[38;5;241;43m.\u001b[39;49m\u001b[43m_update_props\u001b[49m\u001b[43m(\u001b[49m\n\u001b[0;32m   1217\u001b[0m \u001b[43m        \u001b[49m\u001b[43mkwargs\u001b[49m\u001b[43m,\u001b[49m\u001b[43m \u001b[49m\u001b[38;5;124;43m\"\u001b[39;49m\u001b[38;5;132;43;01m{cls.__name__}\u001b[39;49;00m\u001b[38;5;124;43m.set() got an unexpected keyword argument \u001b[39;49m\u001b[38;5;124;43m\"\u001b[39;49m\n\u001b[0;32m   1218\u001b[0m \u001b[43m        \u001b[49m\u001b[38;5;124;43m\"\u001b[39;49m\u001b[38;5;132;43;01m{prop_name!r}\u001b[39;49;00m\u001b[38;5;124;43m\"\u001b[39;49m\u001b[43m)\u001b[49m\n",
      "File \u001b[1;32mc:\\Users\\gaura\\AppData\\Local\\Programs\\Python\\Python313\\Lib\\site-packages\\matplotlib\\artist.py:1190\u001b[0m, in \u001b[0;36mArtist._update_props\u001b[1;34m(self, props, errfmt)\u001b[0m\n\u001b[0;32m   1188\u001b[0m             func \u001b[38;5;241m=\u001b[39m \u001b[38;5;28mgetattr\u001b[39m(\u001b[38;5;28mself\u001b[39m, \u001b[38;5;124mf\u001b[39m\u001b[38;5;124m\"\u001b[39m\u001b[38;5;124mset_\u001b[39m\u001b[38;5;132;01m{\u001b[39;00mk\u001b[38;5;132;01m}\u001b[39;00m\u001b[38;5;124m\"\u001b[39m, \u001b[38;5;28;01mNone\u001b[39;00m)\n\u001b[0;32m   1189\u001b[0m             \u001b[38;5;28;01mif\u001b[39;00m \u001b[38;5;129;01mnot\u001b[39;00m \u001b[38;5;28mcallable\u001b[39m(func):\n\u001b[1;32m-> 1190\u001b[0m                 \u001b[38;5;28;01mraise\u001b[39;00m \u001b[38;5;167;01mAttributeError\u001b[39;00m(\n\u001b[0;32m   1191\u001b[0m                     errfmt\u001b[38;5;241m.\u001b[39mformat(\u001b[38;5;28mcls\u001b[39m\u001b[38;5;241m=\u001b[39m\u001b[38;5;28mtype\u001b[39m(\u001b[38;5;28mself\u001b[39m), prop_name\u001b[38;5;241m=\u001b[39mk))\n\u001b[0;32m   1192\u001b[0m             ret\u001b[38;5;241m.\u001b[39mappend(func(v))\n\u001b[0;32m   1193\u001b[0m \u001b[38;5;28;01mif\u001b[39;00m ret:\n",
      "\u001b[1;31mAttributeError\u001b[0m: Rectangle.set() got an unexpected keyword argument 'kde'"
     ]
    },
    {
     "data": {
      "image/png": "[encoded data removed]",
      "text/plain": [
       "<Figure size 640x480 with 1 Axes>"
      ]
     },
     "metadata": {},
     "output_type": "display_data"
    }
   ],
   "source": [
    "df['sentiment_score'].plot(kind='hist', kde=True)"
   ]
  },
  {
   "cell_type": "code",
   "execution_count": null,
   "metadata": {},
   "outputs": [],
   "source": []
  }
 ],
 "metadata": {
  "kernelspec": {
   "display_name": "Python 3",
   "language": "python",
   "name": "python3"
  },
  "language_info": {
   "codemirror_mode": {
    "name": "ipython",
    "version": 3
   },
   "file_extension": ".py",
   "mimetype": "text/x-python",
   "name": "python",
   "nbconvert_exporter": "python",
   "pygments_lexer": "ipython3",
   "version": "3.13.0"
  }
 },
 "nbformat": 4,
 "nbformat_minor": 2
}
